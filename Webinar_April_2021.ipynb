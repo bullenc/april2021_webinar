{
 "cells": [
  {
   "attachments": {},
   "cell_type": "markdown",
   "metadata": {},
   "source": [
    "# GDC April 2021 Webinar: Using the GDC API\n",
    "\n",
    "### Monday, April 26, 2021<br>2:00 PM - 3:00 PM (EST)<br>Bill Wysocki, Director of User Services <br>University of Chicago\n",
    "\n",
    "## API User's Guide and Other GDC Helpful Links\n",
    "\n",
    "[GDC API User's Guide](https://docs.gdc.cancer.gov/API/Users_Guide/Getting_Started/)\n",
    "\n",
    "[GDC Support Website](https://gdc.cancer.gov/support)\n",
    "\n",
    "GDC Helpdesk E-mail - support@nci-gdc.datacommons.io\n",
    "\n",
    "[Requests Python Package User's Guide](https://2.python-requests.org/en/master/)\n",
    "\n",
    "Others?\n",
    "\n",
    "# Notebook Overview \n",
    "\n",
    "- [GDC API Overview](#api_overview')\n",
    "- [Jupyter Notebook Overvie](#jn_overview')\n",
    "- [How to Search and Retrieve Data with GDC API](#search_retrieve)\n",
    "    - [Retrieve() function]()\n",
    "    - [Example 1: ]()\n",
    "- [How to Download Files with GDC API](#download)\n",
    "    - [Download() function]()\n",
    "- [How to Perform BAM Slicing with GDC API](#bam_slice)\n",
    "- [How to Submit Data with GDC API](#submit)\n",
    "\n",
    "\n",
    "# <a id='api_overview'>GDC API Overview</a>\n",
    "\n",
    "\n",
    "- The GDC Application Programming Interface (API) is the external facing REpresentational State Transfer (REST) interface for the GDC, which supports user interactions with the GDC Submission and Data Portals, as well as provides developers with a programmatic interface to query and download GDC data, metadata and annotations and submit data to the GDC.\n",
    "- The GDC API uses JSON as its communication format, and uses standard HTTP methods (GET, PUT, POST and DELETE)\n",
    "- The GDC Data Transfer Tool client also relies on the GDC API for user authentication, reading manifests, and for download and upload features\n",
    "\n",
    "\n",
    "### GDC API Format\n",
    "\n",
    "- In order to utilize the GDC API, calls to specific API endpoints for a given task need to be made\n",
    "- Query parameters can be included, such as <b>filters</b> to search and distill results, and <b>fields</b> or types of data to return, as well as formatting parameters such as <b>format</b> and <b>pretty</b>\n",
    "- GDC API format for non-submission use is: <b>API_URL/ + ENDPOINT? + QUERY_PARAMETERS</b>\n",
    "- Examples of endpoints and possible query parameters:\n",
    "- The format for using the GDC API Submission enpoint = https://api.gdc.cancer.gov/<b>program_name/project_code</b>, i.e. https://api.gdc.cancer.gov/submission/TCGA/LUAD or https://api.gdc.cancer.gov/submission/CPTAC/3 \n",
    "\n",
    "# <a id='jn_overview'>Jupyter Notebook Overview</a>\n",
    "\n",
    "- links to JN resources? \n",
    "- Quick, couple sentence/1 paragraph summary\n",
    "- Dependencies\n",
    "- How to install dependencies from command line (or include a requirements.txt file?)\n",
    "    - from windows, linux and macOS?\n"
   ]
  },
  {
   "cell_type": "code",
   "execution_count": null,
   "metadata": {},
   "outputs": [],
   "source": [
    "#import packages\n",
    "import requests\n",
    "import json\n",
    "import urllib"
   ]
  },
  {
   "cell_type": "markdown",
   "metadata": {},
   "source": [
    "# <a id='search_retrieve'>How to Search and Retrieve Data with GDC API</a>\n",
    "\n",
    "### Endpoints\n",
    "\n",
    "- need to talk about how 'regular' endpoints for data retrieval, and then also the 'analysis' endpoints that are used by DAVE tools that allow users to query "
   ]
  },
  {
   "cell_type": "code",
   "execution_count": null,
   "metadata": {},
   "outputs": [],
   "source": []
  },
  {
   "cell_type": "markdown",
   "metadata": {},
   "source": [
    "# <a id='download'>How to Download Files with GDC API</a>\n",
    "\n",
    "# <a id='bam_slice'>How to Perform BAM Slicing with GDC API</a>\n",
    "\n",
    "# <a id='submit'>How to Submit Data with GDC API</a>"
   ]
  }
 ],
 "metadata": {
  "kernelspec": {
   "display_name": "Python 3",
   "language": "python",
   "name": "python3"
  },
  "language_info": {
   "codemirror_mode": {
    "name": "ipython",
    "version": 3
   },
   "file_extension": ".py",
   "mimetype": "text/x-python",
   "name": "python",
   "nbconvert_exporter": "python",
   "pygments_lexer": "ipython3",
   "version": "3.8.5"
  }
 },
 "nbformat": 4,
 "nbformat_minor": 4
}
