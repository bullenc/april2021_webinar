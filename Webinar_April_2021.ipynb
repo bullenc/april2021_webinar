{
 "cells": [
  {
   "cell_type": "markdown",
   "metadata": {},
   "source": [
    "# GDC April 2021 Webinar: Using the GDC API\n",
    "\n",
    "### Monday, April 26, 2021<br>2:00 PM - 3:00 PM (EST)<br>Bill Wysocki, Director of User Services <br>University of Chicago\n",
    "\n",
    "## API User's Guide and Other Helpful Links\n",
    "\n",
    "[GDC API User's Guide](https://docs.gdc.cancer.gov/API/Users_Guide/Getting_Started/)\n",
    "\n",
    "[GDC Support Website](https://gdc.cancer.gov/support)\n",
    "\n",
    "support@nci-gdc.datacommons.io - GDC Helpdesk E-mail\n",
    "\n",
    "[Requests Python Package User's Guide](https://2.python-requests.org/en/master/)\n",
    "\n",
    "[Python Documentation Website](https://www.python.org)\n",
    "\n",
    "# Notebook Overview \n",
    "\n",
    "\n",
    "### About this notebook\n",
    "\n",
    "- This notebook serves to be a resource for GDC users to familiarize themselves with the GDC API endpoints and capablities and allow users to edit and create custom queries \"in place\" with template functions, as well as perform other data analyses and visualizations within the Jupyter Notebook interface\n",
    "- Jupyter Notebook documnetation can be found at https://jupyter.org \n",
    "- Commands and functions in this notebook will rely on the following Python packages:\n",
    "    - `requests` - if not already installed on your system, can use `pip install requests` from command line or in new notebook code cell\n",
    "    - `json` - part of Python standard library, should already be installed on system\n",
    "    - `urllib` - part of Python standard library, should already be installed on system"
   ]
  },
  {
   "cell_type": "code",
   "execution_count": 3,
   "metadata": {},
   "outputs": [],
   "source": [
    "#import packages to use in this notebook\n",
    "\n",
    "import requests\n",
    "import json\n",
    "import urllib"
   ]
  },
  {
   "cell_type": "markdown",
   "metadata": {},
   "source": [
    "### Table of Contents\n",
    "\n",
    "- [GDC API Overview](#api_overview')\n",
    "- [How to Search and Retrieve Data with GDC API](#search_retrieve)\n",
    "- [How to Download Files with GDC API](#download)\n",
    "- [How to Perform BAM Slicing with GDC API](#bam_slice)\n",
    "- [How to Submit Data with GDC API](#submit)\n",
    "\n",
    "\n",
    "# <a id='api_overview'>GDC API Overview</a>\n",
    "\n",
    "\n",
    "- The GDC Application Programming Interface (API) is the external facing REpresentational State Transfer (REST) interface for the GDC, which supports user interactions with the GDC Submission and Data Portals, as well as provides developers with a programmatic interface to query and download GDC data, metadata and annotations and submit data to the GDC.\n",
    "- The GDC API uses JSON as its communication format, and uses standard HTTP methods (GET, PUT, POST and DELETE)\n",
    "- The [GDC Data Transfer Tool](https://gdc.cancer.gov/access-data/gdc-data-transfer-tool) client also relies on the GDC API for user authentication, reading manifests, and for download and upload features\n",
    "\n",
    "\n",
    "### GDC API Format\n",
    "\n",
    "- GDC API URL is: https://api.gdc.cancer.gov/\n",
    "- GDC API format for non-submission use is: <b>API_URL + ENDPOINT + QUERY_PARAMETERS</b>\n",
    "    - In order to utilize the GDC API, calls to specific API endpoints for a given task need to be made\n",
    "    - Query parameters can be included, such as <b>filters</b> to search and distill results, and <b>fields</b> or types of data to return\n",
    "    - Formatting parameters can be specified such as <b>format</b> and <b>pretty</b>\n",
    "    - Examples of endpoints and possible query parameters:\n",
    "- The format for using the GDC API Submission enpoint = https://api.gdc.cancer.gov/<b>program_name/project_code</b>, i.e. https://api.gdc.cancer.gov/submission/TCGA/LUAD or https://api.gdc.cancer.gov/submission/CPTAC/3 "
   ]
  },
  {
   "cell_type": "markdown",
   "metadata": {},
   "source": [
    "# <a id='search_retrieve'>How to Search and Retrieve Data with GDC API</a>\n",
    "\n",
    "### Overview\n",
    "\n",
    "### Endpoints\n",
    "\n",
    "There are two 'types' of endpoints that can be used to search and retrieve data:\n",
    "\n",
    "\n",
    "[GDC Search and Retrieval Endpoints](https://docs.gdc.cancer.gov/API/Users_Guide/Search_and_Retrieval/#endpoints) - includes endpoints that cover `project`, `file` and `case` information, including clinical and biospecimen metadata, as well as file version and history\n",
    "\n",
    "[GDC Analysis Endpoints](https://docs.gdc.cancer.gov/API/Users_Guide/Data_Analysis/) - endpoints that are used by the GDC data analysis, visualization and exploration (DAVE) tools in the Exploration tab of the GDC Data Portal to access indexed data including gene, mutation, copy number variation and survival data. \n",
    "\n",
    "\n",
    "### Steps\n",
    "\n",
    "1. Specify and encode `filters`\n",
    "2. Specify `fields` to be returned\n",
    "3. Specify additional parameters (`size`, `format` of results etc.)\n",
    "3. Build query url\n",
    "4. Submit query and save response text to file\n",
    "\n",
    "*specifying parameters are optional; not specifying filters will return all results at endpoint, and not specifying fields will return all fields at endpoint, while other parameters will be set to default value (i.e. size = 10, format = JSON)\n",
    "\n",
    "### Template queryBuilder() function\n",
    "\n",
    "- Search and Retrieval requests can be built as a url with the api and endpoint and pther parameters specified\n",
    "- Users can edit a template function to build url request for querying data in GDC API to include other parameters, such as `facets`, `expand`, `from` (pagination) and `sort`: \n",
    "https://docs.gdc.cancer.gov/API/Users_Guide/Search_and_Retrieval/#request-parameters\n",
    "- To specify default parameters, users can simply input two quotation marks, i.e. `''`, for a given varible to the queryBuilder() function"
   ]
  },
  {
   "cell_type": "code",
   "execution_count": 16,
   "metadata": {},
   "outputs": [],
   "source": [
    "#format is specified as 'frmat' in function as format is an already declared object in python [the format() function]\n",
    "\n",
    "def queryBuilder(endpoint, filters, fields, size, frmat):\n",
    "    api_url = 'https://api.gdc.cancer.gov/'\n",
    "    \n",
    "    if frmat.lower() == 'json':\n",
    "        request_query = api_url + endpoint + '?filters=' + filters + '&fields=' + fields + '&size=' + size + '&format=' + frmat + '&pretty=true'\n",
    "    else:\n",
    "        request_query = api_url + endpoint + '?filters=' + filters + '&fields=' + fields + '&size=' + size + '&format=' + frmat\n",
    "    return request_query"
   ]
  },
  {
   "cell_type": "markdown",
   "metadata": {},
   "source": [
    "### Templates for query search parameters (<font color=\"red\">filters</font>)\n",
    "\n",
    "- describe filters (operators, fields and values)\n",
    "- need to be in JSON format that then will need to be percent encoded to be sent in url request\n",
    "- will use `urllib` package for formatting\n",
    "- link to [operators](https://docs.gdc.cancer.gov/API/Users_Guide/Search_and_Retrieval/#filters-specifying-the-query)\n",
    "- link to filters/fields \n",
    "- specifying no filters will return all entities for a given endpoint\n",
    "- need to use filters/fields of that endpoint\n",
    "- several examples below to edit "
   ]
  },
  {
   "cell_type": "code",
   "execution_count": null,
   "metadata": {},
   "outputs": [],
   "source": [
    "#one filter applied to endpoint\n",
    "\n",
    "#one filter \n",
    "one_filter = {\n",
    "            \"op\":\"=\",\n",
    "            \"content\":{\n",
    "                \"field\": \"cases.project.project_id\", \n",
    "                \"value\": \"TCGA-BRCA\"\n",
    "    }\n",
    "}"
   ]
  },
  {
   "cell_type": "code",
   "execution_count": null,
   "metadata": {},
   "outputs": [],
   "source": [
    "#combination of two filters applied to endpoint, i.e. (x AND/OR y) must be met\n",
    "\n",
    "combination_two = {\n",
    "    \"op\" : \"and\",\n",
    "    \"content\":[{\n",
    "        \"op\":\"=\",\n",
    "         \"content\":{\n",
    "              \"field\": \"cases.project.project_id\", \n",
    "                \"value\": \"TCGA-BRCA\"\n",
    "            }\n",
    "        }, \n",
    "        {\n",
    "            \"op\":\"=\", \n",
    "            \"content\":{\n",
    "                \"field\":\"cases.disease_type\",\n",
    "                \"value\": \"ductal and lobular neoplasms\"\n",
    "            }\n",
    "        }\n",
    "    ]\n",
    "}"
   ]
  },
  {
   "cell_type": "code",
   "execution_count": null,
   "metadata": {},
   "outputs": [],
   "source": [
    "#combination of three filters applied to endpoint, i.e. (x AND/OR y AND/OR z) must be met\n",
    "\n",
    "combination_three = {\n",
    "    \"op\" : \"and\",\n",
    "    \"content\":[{\n",
    "        \"op\":\"=\",\n",
    "         \"content\":{\n",
    "              \"field\": \"cases.project.project_id\", \n",
    "                \"value\": \"TCGA-BRCA\"\n",
    "            }\n",
    "        }, \n",
    "        {\n",
    "            \"op\":\"=\", \n",
    "            \"content\":{\n",
    "                \"field\":\"cases.disease_type\",\n",
    "                \"value\": \"ductal and lobular neoplasms\"\n",
    "            }\n",
    "        },\n",
    "        {\n",
    "            \"op\":\">\", \n",
    "            \"content\":{\n",
    "                \"field\":\"diagnoses.age_at_diagnosis\",\n",
    "                \"value\": \"15000\"\n",
    "            }\n",
    "        }\n",
    "        \n",
    "    ]\n",
    "}"
   ]
  },
  {
   "cell_type": "code",
   "execution_count": null,
   "metadata": {},
   "outputs": [],
   "source": [
    "#complex combination of three filters applied to endpoint, i.e. (x AND/OR [y AND/OR z]) must be met\n",
    "\n",
    "combination_three_2 = {\n",
    "    \"op\": \"and\",\n",
    "    \"content\": [{\n",
    "            \"op\": \"=\",\n",
    "            \"content\": {\n",
    "                \"field\": \"cases.project.project_id\",\n",
    "                \"value\": \"TCGA-BRCA\"\n",
    "            }\n",
    "        },\n",
    "        {\n",
    "            \"op\": \"or\",\n",
    "            \"content\": [{\n",
    "                    \"op\": \"=\",\n",
    "                    \"content\": {\n",
    "                        \"field\": \"cases.disease_type\",\n",
    "                        \"value\": \"cystic, mucinous and serious neoplasms\"\n",
    "                    }\n",
    "                },\n",
    "                {\n",
    "                    \"op\": \"=\",\n",
    "                    \"content\": {\n",
    "                        \"field\": \"cases.disease_type\",\n",
    "                        \"value\": \"ductal and lobular neoplasms\"\n",
    "                    }\n",
    "                }\n",
    "            ]\n",
    "        }\n",
    "    ]\n",
    "}"
   ]
  },
  {
   "cell_type": "markdown",
   "metadata": {},
   "source": [
    "### Template commands for formatting search query parameters"
   ]
  },
  {
   "cell_type": "code",
   "execution_count": null,
   "metadata": {},
   "outputs": [],
   "source": [
    "#percent encoding of filters\n",
    "json_string=str(json.dumps(one_filter))\n",
    "example_filter = urllib.parse.quote(json_string.encode('utf-8'))"
   ]
  },
  {
   "cell_type": "markdown",
   "metadata": {},
   "source": [
    "### Template for formatting <font color=\"red\">fields</font> to be returned by query\n",
    "\n",
    "- all fields = do not specify?\n",
    "- comma delimited list of fields to be returned\n",
    "- specifying no fields will return all available fields for entities that match filters in endpoint"
   ]
  },
  {
   "cell_type": "code",
   "execution_count": null,
   "metadata": {},
   "outputs": [],
   "source": [
    "#specify fields to be returned\n",
    "example_fields = \",\".join([\n",
    "    \"submitter_id\",\n",
    "    \"disease_type\",\n",
    "    \"samples.submitter_id\",\n",
    "    \"samples.sample_type\", \n",
    "    \"samples.tissue_type\",\n",
    "    \"diagnoses.age_at_diagnosis\"\n",
    "])"
   ]
  },
  {
   "cell_type": "markdown",
   "metadata": {},
   "source": [
    "### Template API `GET` Request "
   ]
  },
  {
   "cell_type": "code",
   "execution_count": null,
   "metadata": {},
   "outputs": [],
   "source": [
    "#build API query: queryBuilder(endpoint, filters, fields, size, frmat)\n",
    "\n",
    "#to specify no filters and/or no fields to return, replace variable with <''>\n",
    "\n",
    "template_request = queryBuilder('cases', example_filter, example_fields, '11315', \"json\")\n",
    "\n",
    "template_request"
   ]
  },
  {
   "cell_type": "markdown",
   "metadata": {},
   "source": [
    "##### Note: You can also copy and paste formatted request URL into browser url bar to  return results in browser"
   ]
  },
  {
   "cell_type": "code",
   "execution_count": null,
   "metadata": {},
   "outputs": [],
   "source": [
    "#send request\n",
    "result = requests.get(template_request)\n",
    "\n",
    "#write request results to file, edit file name and type \n",
    "with open(\"/Users/catherineausland/Desktop/ffpe.json\", \"w+\") as output: \n",
    "    output.write(result.text)\n",
    "output.close()"
   ]
  },
  {
   "cell_type": "markdown",
   "metadata": {},
   "source": [
    "### Example 1: Retrieve case barcode, sample type and primary diagnosis data for DNA-seq files in TCGA-BRCA project\n",
    "\n",
    "- Retrieve whether BAM files are for normal or tumor samples, as well as what disease cases were diagnosed as, in the TCGA-BRCA project\n",
    "- Use 'files' endpoint, as this endpoint contains metadata related to files in the GDC (such as experimental strategy and data category)\n",
    "- Need to filter down to files that are of the data category \"sequencing reads\" and experimental strategy type \"WXS\" (whole exome) to filter out other categories (like copy number variation, gene expression) and other experimental stragies (like RNA-Seq). "
   ]
  },
  {
   "cell_type": "code",
   "execution_count": 30,
   "metadata": {},
   "outputs": [
    {
     "name": "stdout",
     "output_type": "stream",
     "text": [
      "cases.0.diagnoses.0.primary_diagnosis\tcases.0.samples.0.sample_type\tcases.0.submitter_id\tfile_name\tid\r\n",
      "Infiltrating duct carcinoma, NOS\tBlood Derived Normal\tTCGA-AR-A0TQ\tTCGA-AR-A0TQ-10A-01D-A099-09_IlluminaGA-DNASeq_exome_gdc_realn.bam\t7e089ffc-a3c6-4182-b14a-b0c75c829af2\r\n",
      "\n"
     ]
    },
    {
     "data": {
      "text/plain": [
       "'https://api.gdc.cancer.gov/files?filters=%7B%22op%22%3A%20%22and%22%2C%20%22content%22%3A%20%5B%7B%22op%22%3A%20%22%3D%22%2C%20%22content%22%3A%20%7B%22field%22%3A%20%22cases.project.project_id%22%2C%20%22value%22%3A%20%22TCGA-BRCA%22%7D%7D%2C%20%7B%22op%22%3A%20%22%3D%22%2C%20%22content%22%3A%20%7B%22field%22%3A%20%22files.data_category%22%2C%20%22value%22%3A%20%22sequencing%20reads%22%7D%7D%2C%20%7B%22op%22%3A%20%22%3D%22%2C%20%22content%22%3A%20%7B%22field%22%3A%20%22files.experimental_strategy%22%2C%20%22value%22%3A%20%22WXS%22%7D%7D%2C%20%7B%22op%22%3A%20%22%3D%22%2C%20%22content%22%3A%20%7B%22field%22%3A%20%22files.data_format%22%2C%20%22value%22%3A%20%22BAM%22%7D%7D%5D%7D&fields=cases.submitter_id,file_name,cases.samples.sample_type,cases.diagnoses.primary_diagnosis&size=1&format=tsv'"
      ]
     },
     "execution_count": 30,
     "metadata": {},
     "output_type": "execute_result"
    }
   ],
   "source": [
    "#step 1: specify and encode filters\n",
    "\n",
    "filters = {\n",
    "    \"op\" : \"and\",\n",
    "    \"content\":[{\n",
    "        \"op\":\"=\",\n",
    "         \"content\":{\n",
    "              \"field\": \"cases.project.project_id\", \n",
    "                \"value\": \"TCGA-BRCA\"\n",
    "            }\n",
    "        }, \n",
    "        {\n",
    "            \"op\":\"=\", \n",
    "            \"content\":{\n",
    "                \"field\":\"files.data_category\",\n",
    "                \"value\": \"sequencing reads\"\n",
    "            }\n",
    "        },\n",
    "        {\n",
    "            \"op\":\"=\", \n",
    "            \"content\":{\n",
    "                \"field\":\"files.experimental_strategy\",\n",
    "                \"value\": \"WXS\"\n",
    "            }\n",
    "        },\n",
    "        {\n",
    "            \"op\":\"=\", \n",
    "            \"content\":{\n",
    "                \"field\":\"files.data_format\",\n",
    "                \"value\": \"BAM\"\n",
    "            }\n",
    "        }\n",
    "        \n",
    "    ]\n",
    "}\n",
    "\n",
    "json_string=str(json.dumps(filters))\n",
    "filters_format = urllib.parse.quote(json_string.encode('utf-8'))\n",
    "\n",
    "#step 2: specify fields to be returned\n",
    "fields = \",\".join([\n",
    "    \"cases.submitter_id\",\n",
    "    \"file_name\",\n",
    "    \"cases.samples.sample_type\",\n",
    "    \"cases.diagnoses.primary_diagnosis\"\n",
    "])\n",
    "\n",
    "#step 3+4: build query url with 'files' endpoint, specify size=1 and format=tsv\n",
    "brca_request = queryBuilder('files', filters_format, fields, '1', \"tsv\")\n",
    "\n",
    "#step 5: send request\n",
    "brca_result = requests.get(brca_request)\n",
    "\n",
    "print(brca_result.text)\n",
    "brca_request"
   ]
  },
  {
   "cell_type": "markdown",
   "metadata": {},
   "source": [
    "### Example 2: Retrieve FFPE data for samples and portions for TCGA projects\n",
    "\n",
    "- Retrieve whether case samples and portions taken from cases in TCGA projects were Formalin-Fixed Paraffin-Embedded (FFPE) specimens or not\n",
    "- Will use the 'cases' endpoint, as this endpoint contains biospecien and clinical information related to cases and samples in the GDC"
   ]
  },
  {
   "cell_type": "code",
   "execution_count": 29,
   "metadata": {
    "scrolled": true
   },
   "outputs": [
    {
     "name": "stdout",
     "output_type": "stream",
     "text": [
      "{\n",
      "  \"data\": {\n",
      "    \"hits\": [\n",
      "      {\n",
      "        \"id\": \"375436b3-66ac-4d5e-b495-18a96d812a69\", \n",
      "        \"submitter_id\": \"TCGA-F5-6810\", \n",
      "        \"samples\": [\n",
      "          {\n",
      "            \"submitter_id\": \"TCGA-F5-6810-01Z\", \n",
      "            \"is_ffpe\": true\n",
      "          }, \n",
      "          {\n",
      "            \"submitter_id\": \"TCGA-F5-6810-10A\", \n",
      "            \"is_ffpe\": false, \n",
      "            \"portions\": [\n",
      "              {\n",
      "                \"submitter_id\": \"TCGA-F5-6810-10A-01\", \n",
      "                \"is_ffpe\": false\n",
      "              }\n",
      "            ]\n",
      "          }, \n",
      "          {\n",
      "            \"submitter_id\": \"TCGA-F5-6810-01A\", \n",
      "            \"is_ffpe\": false, \n",
      "            \"portions\": [\n",
      "              {\n",
      "                \"submitter_id\": \"TCGA-F5-6810-01A-11\", \n",
      "                \"is_ffpe\": false\n",
      "              }, \n",
      "              {\n",
      "                \"submitter_id\": \"TCGA-F5-6810-01A-13-1935-20\", \n",
      "                \"is_ffpe\": false\n",
      "              }\n",
      "            ]\n",
      "          }\n",
      "        ]\n",
      "      }\n",
      "    ], \n",
      "    \"pagination\": {\n",
      "      \"count\": 1, \n",
      "      \"total\": 11315, \n",
      "      \"size\": 1, \n",
      "      \"from\": 0, \n",
      "      \"sort\": \"\", \n",
      "      \"page\": 1, \n",
      "      \"pages\": 11315\n",
      "    }\n",
      "  }, \n",
      "  \"warnings\": {}\n",
      "}\n"
     ]
    },
    {
     "data": {
      "text/plain": [
       "'https://api.gdc.cancer.gov/cases?filters=%7B%22op%22%3A%20%22%3D%22%2C%20%22content%22%3A%20%7B%22field%22%3A%20%22cases.project.program.name%22%2C%20%22value%22%3A%20%22TCGA%22%7D%7D&fields=submitter_id,samples.submitter_id,samples.is_ffpe,samples.portions.submitter_id,samples.portions.is_ffpe&size=1&format=json&pretty=true'"
      ]
     },
     "execution_count": 29,
     "metadata": {},
     "output_type": "execute_result"
    }
   ],
   "source": [
    "#step 1: specify and encode filters\n",
    "filters = {\n",
    "            \"op\":\"=\",\n",
    "            \"content\":{\n",
    "                \"field\": \"cases.project.program.name\", \n",
    "                \"value\": \"TCGA\"\n",
    "    }\n",
    "}\n",
    "\n",
    "json_string=str(json.dumps(filters))\n",
    "filters_format = urllib.parse.quote(json_string.encode('utf-8'))\n",
    "\n",
    "#step 2: specify fields to be returned\n",
    "fields = \",\".join([\n",
    "    \"submitter_id\",\n",
    "    \"samples.submitter_id\",\n",
    "    \"samples.is_ffpe\",\n",
    "    \"samples.portions.submitter_id\",\n",
    "    \"samples.portions.is_ffpe\", \n",
    "])\n",
    "\n",
    "#step 3+4: build query url with 'cases' endpoint, specify size=1 and format=json\n",
    "ffpe_request = queryBuilder('cases', filters_format, fields, '1', \"json\")\n",
    "\n",
    "#step 5: send request\n",
    "ffpe_result = requests.get(ffpe_request)\n",
    "\n",
    "print(ffpe_result.text)\n",
    "ffpe_request"
   ]
  },
  {
   "cell_type": "markdown",
   "metadata": {},
   "source": [
    "### Example 3: Age at Diagnosis, Days to Death after Diagnosis, Vital Status and other clinical data for cases in TCGA-KIRC project\n",
    "\n",
    "- Retrieve \n",
    "- Will only print results for `demographic.days_to_death` if case is dead"
   ]
  },
  {
   "cell_type": "code",
   "execution_count": 33,
   "metadata": {},
   "outputs": [
    {
     "name": "stdout",
     "output_type": "stream",
     "text": [
      "demographic.days_to_death\tdemographic.ethnicity\tdemographic.gender\tdemographic.race\tdemographic.vital_status\tdiagnoses.0.age_at_diagnosis\tid\tsubmitter_id\r\n",
      "\tnot hispanic or latino\tmale\twhite\tAlive\t15197\t24c1cf70-bd67-431e-a623-d20f8d3f52b2\tTCGA-CJ-4881\r\n",
      "866\tnot hispanic or latino\tmale\twhite\tDead\t21317\t12adefc4-c9fd-46d3-904b-8fc52d5f1913\tTCGA-B0-4696\r\n",
      "\n"
     ]
    },
    {
     "data": {
      "text/plain": [
       "'https://api.gdc.cancer.gov/cases?filters=%7B%22op%22%3A%20%22%3D%22%2C%20%22content%22%3A%20%7B%22field%22%3A%20%22cases.project.project_id%22%2C%20%22value%22%3A%20%22TCGA-KIRC%22%7D%7D&fields=submitter_id,diagnoses.age_at_diagnosis,demographic.days_to_death,demographic.vital_status,demographic.ethnicity,demographic.race,demographic.gender&size=2&format=tsv'"
      ]
     },
     "execution_count": 33,
     "metadata": {},
     "output_type": "execute_result"
    }
   ],
   "source": [
    "#step 1: specify and encode filters\n",
    "filters = {\n",
    "            \"op\":\"=\",\n",
    "            \"content\":{\n",
    "                \"field\": \"cases.project.project_id\", \n",
    "                \"value\": \"TCGA-KIRC\"\n",
    "    }\n",
    "}\n",
    "\n",
    "json_string=str(json.dumps(filters))\n",
    "filters_format = urllib.parse.quote(json_string.encode('utf-8'))\n",
    "\n",
    "#step 2: specify fields to be returned\n",
    "fields = \",\".join([\n",
    "    \"submitter_id\",\n",
    "    \"diagnoses.age_at_diagnosis\",\n",
    "    \"demographic.days_to_death\",\n",
    "    \"demographic.vital_status\", \n",
    "    \"demographic.ethnicity\",\n",
    "    \"demographic.race\",\n",
    "    \"demographic.gender\"\n",
    "])\n",
    "\n",
    "#step 3+4: build query url with 'cases' endpoint, specify size=1 and format=json\n",
    "age_request = queryBuilder('cases', filters_format, fields, '2', \"tsv\")\n",
    "\n",
    "#step 5: send request\n",
    "age_result = requests.get(age_request)\n",
    "\n",
    "print(age_result.text)\n",
    "age_request"
   ]
  },
  {
   "cell_type": "markdown",
   "metadata": {},
   "source": [
    "### Example 4: Genes information\n",
    "\n",
    "- Query gene position and symbol for genes on chromosome 8"
   ]
  },
  {
   "cell_type": "code",
   "execution_count": 38,
   "metadata": {},
   "outputs": [
    {
     "name": "stdout",
     "output_type": "stream",
     "text": [
      "gene_end\tgene_start\tid\tsymbol\r\n",
      "7823889\t7821966\tENSG00000186562\tDEFB105A\r\n",
      "108787615\t108606850\tENSG00000164841\tTMEM74\r\n",
      "144428563\t144423601\tENSG00000160948\tVPS28\r\n",
      "40897833\t40530590\tENSG00000165061\tZMAT4\r\n",
      "143384220\t143368855\tENSG00000158106\tRHPN1\r\n",
      "108083648\t107899316\tENSG00000147655\tRSPO2\r\n",
      "143609773\t143603913\tENSG00000104524\tPYCRL\r\n",
      "101372707\t101361794\tENSG00000228224\tNACAP1\r\n",
      "20183206\t20144855\tENSG00000036565\tSLC18A1\r\n",
      "18084985\t18056425\tENSG00000104763\tASAH1\r\n",
      "\n"
     ]
    },
    {
     "data": {
      "text/plain": [
       "'https://api.gdc.cancer.gov/genes?filters=%7B%22op%22%3A%20%22%3D%22%2C%20%22content%22%3A%20%7B%22field%22%3A%20%22gene_chromosome%22%2C%20%22value%22%3A%20%228%22%7D%7D&fields=id,symbol,gene_start,gene_end&size=10&format=tsv'"
      ]
     },
     "execution_count": 38,
     "metadata": {},
     "output_type": "execute_result"
    }
   ],
   "source": [
    "#step 1: specify and encode filters\n",
    "filters = {\n",
    "            \"op\":\"=\",\n",
    "            \"content\":{\n",
    "                \"field\": \"gene_chromosome\", \n",
    "                \"value\": \"8\"\n",
    "    }\n",
    "}\n",
    "\n",
    "json_string=str(json.dumps(filters))\n",
    "filters_format = urllib.parse.quote(json_string.encode('utf-8'))\n",
    "\n",
    "#step 2: specify fields to be returned\n",
    "fields = \",\".join([\n",
    "    \"id\",\n",
    "    \"symbol\",\n",
    "    \"gene_start\",\n",
    "    \"gene_end\"\n",
    "])\n",
    "\n",
    "#step 3+4: build query url with 'cases' endpoint, specify size=1 and format=json\n",
    "genes_request = queryBuilder('genes', filters_format, fields, '10', \"tsv\")\n",
    "\n",
    "#step 5: send request\n",
    "genes_result = requests.get(genes_request)\n",
    "\n",
    "print(genes_result.text)\n",
    "genes_request"
   ]
  },
  {
   "cell_type": "code",
   "execution_count": 55,
   "metadata": {},
   "outputs": [
    {
     "name": "stdout",
     "output_type": "stream",
     "text": [
      "{\n",
      "  \"data\": {\n",
      "    \"biotype\": \"protein_coding\", \n",
      "    \"symbol\": \"VPS28\", \n",
      "    \"canonical_transcript_length_genomic\": 4963, \n",
      "    \"cytoband\": [\n",
      "      \"8q24.3\"\n",
      "    ], \n",
      "    \"canonical_transcript_length\": 1097, \n",
      "    \"synonyms\": [], \n",
      "    \"description\": \"This gene encodes a protein subunit of the ESCRT-I complex (endosomal complexes required for transport), which functions in the transport and sorting of proteins into subcellular vesicles. This complex can also be hijacked to facilitate the budding of enveloped viruses from the cell membrane. Alternative splicing results in multiple transcript variants encoding different isoforms. [provided by RefSeq, Jul 2013]\", \n",
      "    \"canonical_transcript_length_cds\": 699, \n",
      "    \"gene_chromosome\": \"8\", \n",
      "    \"gene_end\": 144428563, \n",
      "    \"canonical_transcript_id\": \"ENST00000377348\", \n",
      "    \"gene_strand\": -1, \n",
      "    \"gene_start\": 144423601, \n",
      "    \"name\": \"vacuolar protein sorting 28 homolog (S. cerevisiae)\", \n",
      "    \"gene_id\": \"ENSG00000160948\"\n",
      "  }, \n",
      "  \"warnings\": {}\n",
      "}\n"
     ]
    }
   ],
   "source": [
    "#Can use gene_id to also query individual information about the gene in question from genes endpoint as well\n",
    "#by appending the gene_id at the end of the 'genes' endpoint and specifying parameters\n",
    "\n",
    "individual_gene_request = requests.get('https://api.gdc.cancer.gov/genes/ENSG00000160948?pretty=true')\n",
    "\n",
    "print(individual_gene_request.text)"
   ]
  },
  {
   "cell_type": "markdown",
   "metadata": {},
   "source": [
    "### Example 5: Mutation Occurence information "
   ]
  },
  {
   "cell_type": "code",
   "execution_count": null,
   "metadata": {},
   "outputs": [],
   "source": []
  },
  {
   "cell_type": "markdown",
   "metadata": {},
   "source": [
    "### Example 6: Survival data for cases with and without a given mutation "
   ]
  },
  {
   "cell_type": "markdown",
   "metadata": {},
   "source": [
    "# <a id='download'>How to Download Files with GDC API</a>\n",
    "\n",
    "### Overview\n",
    "\n",
    "- Users can download files by appending the file uuid to the end of the `data` endpoint url, i.e. `https://api.gdc.cancer.gov/data/5b2974ad-f932-499b-90a3-93577a9f0573`\n",
    "- Can also create a manifest file that can be used to download files with the [GDC Data Transfer Tool](https://gdc.cancer.gov/access-data/gdc-data-transfer-tool)\n",
    "- Documentation on downloading files using the GDC API can be found here: https://docs.gdc.cancer.gov/API/Users_Guide/Downloading_Files/\n",
    "\n",
    "### Endpoint\n",
    "\n",
    "- The endpoint to download files is `https://api.gdc.cancer.gov/data/`\n",
    "\n",
    "### Steps\n",
    "\n"
   ]
  },
  {
   "cell_type": "markdown",
   "metadata": {},
   "source": [
    "### Example 1: Downloading an open-access file"
   ]
  },
  {
   "cell_type": "code",
   "execution_count": 4,
   "metadata": {},
   "outputs": [],
   "source": [
    "#url = \"https://api.gdc.cancer.gov/data/<file_uuid>\"\n",
    "\n",
    "url = \"https://api.gdc.cancer.gov/data/8690f7bd-de0c-41ee-806a-f4e949ed1fbf\"\n",
    "\n",
    "with requests.get(url, stream=True) as result:\n",
    "    #with open(\"path/to/file_name.txt\", \"wb\") as file:\n",
    "    with open(\"test_download.txt\", \"wb\") as file:\n",
    "        for chunk in result.iter_content(chunk_size=16*1024):\n",
    "            file.write(chunk)\n",
    "file.close()"
   ]
  },
  {
   "cell_type": "markdown",
   "metadata": {},
   "source": [
    "### Example 2: Downloading a controlled-access file"
   ]
  },
  {
   "cell_type": "markdown",
   "metadata": {},
   "source": [
    "### Example 3: Related Files?"
   ]
  },
  {
   "cell_type": "markdown",
   "metadata": {},
   "source": [
    "### Example 4: Downloading multiple files"
   ]
  },
  {
   "cell_type": "markdown",
   "metadata": {},
   "source": [
    "# <a id='bam_slice'>How to Perform BAM Slicing with GDC API</a>\n",
    "\n",
    "-  The GDC API provides remote BAM slicing functionality that enables downloading of specific parts of a BAM file instead of the whole file. \n",
    "- This functionality can be accessed at the `slicing` endpoint, using a syntax similar to that of widely used bioinformatics tools such as `samtools`\n",
    "- BAM Slicing will require a token for authentication downloaded from the [GDC Data Portal](https://docs.gdc.cancer.gov/Data_Portal/Users_Guide/Cart/#gdc-authentication-tokens)\n",
    "- Documentation for performing BAM slicing with the GDC API can be found here: https://docs.gdc.cancer.gov/API/Users_Guide/BAM_Slicing/"
   ]
  },
  {
   "cell_type": "code",
   "execution_count": null,
   "metadata": {},
   "outputs": [],
   "source": []
  },
  {
   "cell_type": "markdown",
   "metadata": {},
   "source": [
    "# <a id='submit'>How to Submit Data with GDC API</a>\n",
    "\n",
    "### Overview\n",
    "\n",
    "- Submitters can make use of the `submission` GDC API endpoint to submit node entities to submission projects\n",
    "- Submission will require a token downloaded from the [GDC Submission Portal](https://docs.gdc.cancer.gov/Data_Submission_Portal/Users_Guide/Data_Submission_Process/#authentication)\n",
    "- Data can be submitted in `JSON` or `TSV` format; depending on the data format, users will need to edit the `\"Content-Type\"` in the request command (see below)\n",
    "- Submittable files (such as FASTQ or BAM files) should be uploaded with the [GDC Data Transfer Tool](https://gdc.cancer.gov/access-data/gdc-data-transfer-tool)\n",
    "- Additional features and more information regarding submission using the GDC API can be found here: https://docs.gdc.cancer.gov/API/Users_Guide/Submission/ \n",
    "- [Strategies for Submitting in Bulk](https://docs.gdc.cancer.gov/Data_Submission_Portal/Users_Guide/Data_Submission_Walkthrough/#strategies-for-submitting-in-bulk)\n",
    "\n",
    "\n",
    "### Endpoint\n",
    "\n",
    "- The format for using the GDC API Submission enpoint uses the project information, i.e. `https://api.gdc.cancer.gov/<program_name>/<project_code>`\n",
    "- for example: https://api.gdc.cancer.gov/submission/TCGA/LUAD or https://api.gdc.cancer.gov/submission/CPTAC/3 \n",
    "\n",
    "\n",
    "### Steps\n",
    "\n",
    "1. Read in token file\n",
    "2. Read in submission file\n",
    "3. Edit endpoint and submit data using `POST` request\n",
    "\n",
    "### Example 1: Submitting a JSON Data File"
   ]
  },
  {
   "cell_type": "code",
   "execution_count": null,
   "metadata": {},
   "outputs": [],
   "source": [
    "#1. Read in token file\n",
    "\n",
    "token = open(\"path/to/file/gdc-user-token.txt\").read().strip()"
   ]
  },
  {
   "cell_type": "code",
   "execution_count": null,
   "metadata": {},
   "outputs": [],
   "source": [
    "#2. Read in submission file\n",
    "\n",
    "example_file_json = json.load(open(\"example_file.json\"))"
   ]
  },
  {
   "cell_type": "code",
   "execution_count": null,
   "metadata": {},
   "outputs": [],
   "source": [
    "#3. Edit endpoint and submit data using POST request\n",
    "\n",
    "ENDPT = \"https://api.gdc.cancer.gov/submission/<program_name>/<project_id>\"\n",
    "\n",
    "#submission request if data is in JSON format\n",
    "requests.post(url = ENDPT, json = example_file_json, headers={'X-Auth-Token': token, \"Content-Type\": \"application/json\"})"
   ]
  },
  {
   "cell_type": "markdown",
   "metadata": {},
   "source": [
    "### Example 2: Submitting a TSV Data File\n",
    "\n",
    "- Template TSV files can be found at the GDC Data Dictionary Viewer webpage: https://docs.gdc.cancer.gov/Data_Dictionary/viewer/#?_top=1"
   ]
  },
  {
   "cell_type": "code",
   "execution_count": 2,
   "metadata": {},
   "outputs": [],
   "source": [
    "#1. Read in token file\n",
    "\n",
    "token = open(\"path/to/file/gdc-user-token.txt\").read().strip()"
   ]
  },
  {
   "cell_type": "code",
   "execution_count": 13,
   "metadata": {},
   "outputs": [],
   "source": [
    "#2. Read in submission file\n",
    "\n",
    "example_file_tsv = open(\"example_file.txt\", \"rb\")"
   ]
  },
  {
   "cell_type": "code",
   "execution_count": 14,
   "metadata": {},
   "outputs": [
    {
     "data": {
      "text/plain": [
       "'{\"cases_related_to_created_entities_count\":1,\"cases_related_to_updated_entities_count\":0,\"code\":200,\"created_entity_count\":2,\"entities\":[{\"action\":\"create\",\"errors\":[],\"id\":\"ba18283a-30ac-4ff8-b1b4-7d590792fd0c\",\"related_cases\":[{\"id\":\"2c17941d-8488-4fdf-bb4d-2707a3b17312\",\"submitter_id\":\"GDC-INTERNAL-000004\"}],\"type\":\"sample\",\"unique_keys\":[{\"project_id\":\"GDC-INTERNAL\",\"submitter_id\":\"Blood-00001_api1\"}],\"valid\":true,\"warnings\":[]},{\"action\":\"create\",\"errors\":[],\"id\":\"f449697c-1271-4e50-94c7-567ecfb60e72\",\"related_cases\":[{\"id\":\"2c17941d-8488-4fdf-bb4d-2707a3b17312\",\"submitter_id\":\"GDC-INTERNAL-000004\"}],\"type\":\"sample\",\"unique_keys\":[{\"project_id\":\"GDC-INTERNAL\",\"submitter_id\":\"Blood-00001_api2\"}],\"valid\":true,\"warnings\":[]}],\"entity_error_count\":0,\"message\":\"Transaction successful.\",\"success\":true,\"transaction_id\":2674066,\"transactional_error_count\":0,\"transactional_errors\":[],\"updated_entity_count\":0}\\n'"
      ]
     },
     "execution_count": 14,
     "metadata": {},
     "output_type": "execute_result"
    }
   ],
   "source": [
    "#3. Edit endpoint and submit data using PUT request\n",
    "\n",
    "ENDPT = \"https://api.gdc.cancer.gov/submission/<program_name>/<project_id>\"\n",
    "\n",
    "#submission request if data is in TSV format\n",
    "res = requests.put(url = ENDPT, data = example_file_tsv, headers={'X-Auth-Token': token, \"Content-Type\": \"text/tsv\"})\n",
    "\n",
    "res.text"
   ]
  }
 ],
 "metadata": {
  "kernelspec": {
   "display_name": "Python 3",
   "language": "python",
   "name": "python3"
  },
  "language_info": {
   "codemirror_mode": {
    "name": "ipython",
    "version": 3
   },
   "file_extension": ".py",
   "mimetype": "text/x-python",
   "name": "python",
   "nbconvert_exporter": "python",
   "pygments_lexer": "ipython3",
   "version": "3.8.5"
  }
 },
 "nbformat": 4,
 "nbformat_minor": 4
}
