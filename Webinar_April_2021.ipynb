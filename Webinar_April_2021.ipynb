{
 "cells": [
  {
   "cell_type": "markdown",
   "metadata": {},
   "source": [
    "# GDC April 2021 Webinar: Using the GDC API\n",
    "\n",
    "### Monday, April 26, 2021<br>2:00 PM - 3:00 PM (EST)<br>Bill Wysocki, Director of User Services <br>University of Chicago\n",
    "\n",
    "## API User's Guide and Other GDC Helpful Links\n",
    "\n",
    "[GDC API User's Guide](https://docs.gdc.cancer.gov/API/Users_Guide/Getting_Started/)\n",
    "\n",
    "[GDC Support Website](https://gdc.cancer.gov/support)\n",
    "\n",
    "GDC Helpdesk E-mail - support@nci-gdc.datacommons.io\n",
    "\n",
    "Others?\n",
    "\n",
    "# Notebook Overview \n",
    "\n",
    "- [GDC API Overview](#api_overview')\n",
    "- [GDC API Key Features](#api_features')\n",
    "- [Jupyter Notebook Overvie](#jn_overview')\n",
    "- [How to Search and Retrieve Data with GDC API](#search_retrieve)\n",
    "    - [Retrieve() function]()\n",
    "    - [Example 1: ]()\n",
    "- [How to Download Files with GDC API](#download)\n",
    "    - [Download]()\n",
    "- [How to Analyze Data with GDC API](#analyze)\n",
    "- [How to Perform BAM Slicing with GDC API](#bam_slice)\n",
    "- [How to Submit Data with GDC API](#submit)\n",
    "\n",
    "\n",
    "# <a id='api_overview'>GDC API Overview</a>\n",
    "\n",
    "# <a id='api_features'>GDC API Key Features</a>\n",
    "\n",
    "RESTful API - link to definition?\n",
    "\n",
    "# <a id='jn_overview'>Jupyter Notebook Overview</a>\n",
    "\n",
    "- links to JN resources? \n",
    "- Quick, couple sentence/1 paragraph summary\n",
    "- Dependencies\n",
    "- How to install dependencies from command line (or include a requirements.txt file?)\n",
    "    - from windows, linux and macOS?\n"
   ]
  },
  {
   "cell_type": "code",
   "execution_count": null,
   "metadata": {},
   "outputs": [],
   "source": [
    "#import packages\n",
    "import requests\n",
    "import json\n",
    "import urllib"
   ]
  },
  {
   "cell_type": "markdown",
   "metadata": {},
   "source": [
    "# <a id='search_retrieve'>How to Search and Retrieve Data with GDC API</a>\n"
   ]
  },
  {
   "cell_type": "code",
   "execution_count": null,
   "metadata": {},
   "outputs": [],
   "source": []
  },
  {
   "cell_type": "markdown",
   "metadata": {},
   "source": [
    "# <a id='download'>How to Download Files with GDC API</a>\n",
    "\n",
    "# <a id='analyze'>How to Analyze Data with GDC API</a>\n",
    "\n",
    "# <a id='bam_slice'>How to Perform BAM Slicing with GDC API</a>\n",
    "\n",
    "# <a id='submit'>How to Submit Data with GDC API</a>"
   ]
  }
 ],
 "metadata": {
  "kernelspec": {
   "display_name": "Python 3",
   "language": "python",
   "name": "python3"
  },
  "language_info": {
   "codemirror_mode": {
    "name": "ipython",
    "version": 3
   },
   "file_extension": ".py",
   "mimetype": "text/x-python",
   "name": "python",
   "nbconvert_exporter": "python",
   "pygments_lexer": "ipython3",
   "version": "3.8.5"
  }
 },
 "nbformat": 4,
 "nbformat_minor": 4
}
