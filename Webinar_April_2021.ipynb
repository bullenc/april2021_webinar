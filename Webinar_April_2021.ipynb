{
 "cells": [
  {
   "cell_type": "markdown",
   "metadata": {},
   "source": [
    "# GDC April 2021 Webinar: Using the GDC API\n",
    "\n",
    "### Monday, April 26, 2021<br>2:00 PM - 3:00 PM (EST)<br>Bill Wysocki, Director of User Services <br>University of Chicago\n",
    "\n",
    "## API User's Guide and Other Helpful Links\n",
    "\n",
    "[GDC API User's Guide](https://docs.gdc.cancer.gov/API/Users_Guide/Getting_Started/)\n",
    "\n",
    "[GDC Support Website](https://gdc.cancer.gov/support)\n",
    "\n",
    "support@nci-gdc.datacommons.io - GDC Helpdesk E-mail\n",
    "\n",
    "[Requests Python Package User's Guide](https://2.python-requests.org/en/master/)\n",
    "\n",
    "[Python Documentation Website](https://www.python.org)\n",
    "\n",
    "# Notebook Overview \n",
    "\n",
    "\n",
    "### About this notebook\n",
    "\n",
    "- This notebook serves to be a resource for GDC users to familiarize themselves with the GDC API endpoints and capablities and allow users to edit and create custom queries \"in place\" with template functions, as well as perform other data analyses and visualizations within the Jupyter Notebook interface\n",
    "- Jupyter Notebook documnetation can be found at https://jupyter.org \n",
    "- Commands and functions in this notebook will rely on the following Python packages:\n",
    "    - `requests` - if not already installed on your system, can use `pip install requests` from command line or in new notebook code cell\n",
    "    - `json` - part of Python standard library, should already be installed on system\n",
    "    - `urllib` - part of Python standard library, should already be installed on system"
   ]
  },
  {
   "cell_type": "code",
   "execution_count": 1,
   "metadata": {},
   "outputs": [],
   "source": [
    "#import packages to use in this notebook\n",
    "\n",
    "import requests\n",
    "import json\n",
    "import urllib"
   ]
  },
  {
   "cell_type": "markdown",
   "metadata": {},
   "source": [
    "### Table of Contents\n",
    "\n",
    "- [GDC API Overview](#api_overview')\n",
    "- [How to Search and Retrieve Data with GDC API](#search_retrieve)\n",
    "- [How to Download Files with GDC API](#download)\n",
    "- [How to Perform BAM Slicing with GDC API](#bam_slice)\n",
    "- [How to Submit Data with GDC API](#submit)\n",
    "\n",
    "\n",
    "# <a id='api_overview'>GDC API Overview</a>\n",
    "\n",
    "\n",
    "- The GDC Application Programming Interface (API) is the external facing REpresentational State Transfer (REST) interface for the GDC, which supports user interactions with the GDC Submission and Data Portals, as well as provides developers with a programmatic interface to query and download GDC data, metadata and annotations and submit data to the GDC.\n",
    "- The GDC API uses JSON as its communication format, and uses standard HTTP methods (GET, PUT, POST and DELETE)\n",
    "- The [GDC Data Transfer Tool](https://gdc.cancer.gov/access-data/gdc-data-transfer-tool) client also relies on the GDC API for user authentication, reading manifests, and for download and upload features\n",
    "\n",
    "\n",
    "### GDC API Format\n",
    "\n",
    "- GDC API URL is: https://api.gdc.cancer.gov/\n",
    "- GDC API format for non-submission use is: <b>API_URL + ENDPOINT + QUERY_PARAMETERS</b>\n",
    "    - In order to utilize the GDC API, calls to specific API endpoints for a given task need to be made\n",
    "    - Query parameters can be included, such as <b>filters</b> to search and distill results, and <b>fields</b> or types of data to return\n",
    "    - Formatting parameters can be specified such as <b>format</b> and <b>pretty</b>\n",
    "    - Examples of endpoints and possible query parameters:\n",
    "- The format for using the GDC API Submission enpoint = https://api.gdc.cancer.gov/<b>program_name/project_code</b>, i.e. https://api.gdc.cancer.gov/submission/TCGA/LUAD or https://api.gdc.cancer.gov/submission/CPTAC/3 "
   ]
  },
  {
   "cell_type": "markdown",
   "metadata": {},
   "source": [
    "# <a id='search_retrieve'>How to Search and Retrieve Data with GDC API</a>\n",
    "\n",
    "### Overview\n",
    "\n",
    "### Endpoints\n",
    "\n",
    "There are two 'types' of endpoints that can be used to search and retrieve data:\n",
    "\n",
    "\n",
    "[GDC Search and Retrieval Endpoints](https://docs.gdc.cancer.gov/API/Users_Guide/Search_and_Retrieval/#endpoints) - includes endpoints that cover `project`, `file` and `case` information, including clinical and biospecimen metadata, as well as file version and history\n",
    "\n",
    "[GDC Analysis Endpoints](https://docs.gdc.cancer.gov/API/Users_Guide/Data_Analysis/) - endpoints that are used by the GDC data analysis, visualization and exploration (DAVE) tools in the Exploration tab of the GDC Data Portal to access indexed data including gene, mutation, copy number variation and survival data. \n",
    "\n",
    "\n",
    "### Steps\n",
    "\n",
    "1. Specify and encode `filters`*\n",
    "2. Specify `fields` to be returned*\n",
    "3. Specify additional parameters (`size`, `format` of results etc.)\n",
    "3. Build query url\n",
    "4. Submit query and save response text to file\n",
    "\n",
    "*specifying `filters` and `fields` are optional; not specifying filters will return all results at endpoint, and not specifying fields will return all fields at endpoint\n",
    "\n",
    "### Template queryBuilder() function\n",
    "\n",
    "- Search and Retrieval requests can be built as a url with the api and endpoint and pther parameters specified\n",
    "- Users can edit a template function to build url request for querying data in GDC API to include other parameters, such as `facets`, `expand`, `from` (pagination) and `sort`: \n",
    "https://docs.gdc.cancer.gov/API/Users_Guide/Search_and_Retrieval/#request-parameters\n",
    "- To specify default parameters, such as no `filters`, no `fields`, or default number of results returned (`size`), users can simply input two quotation marks, i.e. `''`"
   ]
  },
  {
   "cell_type": "code",
   "execution_count": 7,
   "metadata": {},
   "outputs": [],
   "source": [
    "#format is specified as 'frmat' in function as format is an already declared object in python [the format() function]\n",
    "\n",
    "def queryBuilder(endpoint, filters, fields, size, frmat):\n",
    "    api_url = 'https://api.gdc.cancer.gov/'\n",
    "    \n",
    "    if frmat.lower() == 'json':\n",
    "        request_query = api_url + endpoint + '?filters=' + filters + '&fields=' + fields + '&size=' + size + '&format=' + frmat + '&pretty=true'\n",
    "    else:\n",
    "        request_query = api_url + endpoint + '?filters=' + filters + '&fields=' + fields + '&size=' + size + '&format=' + frmat\n",
    "    return request_query"
   ]
  },
  {
   "cell_type": "markdown",
   "metadata": {},
   "source": [
    "### Templates for query search parameters (<font color=\"red\">filters</font>)\n",
    "\n",
    "- describe filters (operators, fields and values)\n",
    "- need to be in JSON format that then will need to be percent encoded to be sent in url request\n",
    "- will use `urllib` package for formatting\n",
    "- link to [operators](https://docs.gdc.cancer.gov/API/Users_Guide/Search_and_Retrieval/#filters-specifying-the-query)\n",
    "- link to filters/fields \n",
    "- specifying no filters will return all entities for a given endpoint\n",
    "- need to use filters/fields of that endpoint\n",
    "- several examples below to edit "
   ]
  },
  {
   "cell_type": "code",
   "execution_count": 10,
   "metadata": {},
   "outputs": [],
   "source": [
    "#one filter applied to endpoint\n",
    "\n",
    "#one filter \n",
    "one_filter = {\n",
    "            \"op\":\"=\",\n",
    "            \"content\":{\n",
    "                \"field\": \"cases.project.project_id\", \n",
    "                \"value\": \"TCGA-BRCA\"\n",
    "    }\n",
    "}"
   ]
  },
  {
   "cell_type": "code",
   "execution_count": null,
   "metadata": {},
   "outputs": [],
   "source": [
    "#combination of two filters applied to endpoint, i.e. (x AND/OR y) must be met\n",
    "\n",
    "combination_two = {\n",
    "    \"op\" : \"and\",\n",
    "    \"content\":[{\n",
    "        \"op\":\"=\",\n",
    "         \"content\":{\n",
    "              \"field\": \"cases.project.project_id\", \n",
    "                \"value\": \"TCGA-BRCA\"\n",
    "            }\n",
    "        }, \n",
    "        {\n",
    "            \"op\":\"=\", \n",
    "            \"content\":{\n",
    "                \"field\":\"cases.disease_type\",\n",
    "                \"value\": \"ductal and lobular neoplasms\"\n",
    "            }\n",
    "        }\n",
    "    ]\n",
    "}"
   ]
  },
  {
   "cell_type": "code",
   "execution_count": 32,
   "metadata": {},
   "outputs": [],
   "source": [
    "#combination of three filters applied to endpoint, i.e. (x AND/OR y AND/OR z) must be met\n",
    "\n",
    "combination_three = {\n",
    "    \"op\" : \"and\",\n",
    "    \"content\":[{\n",
    "        \"op\":\"=\",\n",
    "         \"content\":{\n",
    "              \"field\": \"cases.project.project_id\", \n",
    "                \"value\": \"TCGA-BRCA\"\n",
    "            }\n",
    "        }, \n",
    "        {\n",
    "            \"op\":\"=\", \n",
    "            \"content\":{\n",
    "                \"field\":\"cases.disease_type\",\n",
    "                \"value\": \"ductal and lobular neoplasms\"\n",
    "            }\n",
    "        },\n",
    "        {\n",
    "            \"op\":\">\", \n",
    "            \"content\":{\n",
    "                \"field\":\"diagnoses.age_at_diagnosis\",\n",
    "                \"value\": \"15000\"\n",
    "            }\n",
    "        }\n",
    "        \n",
    "    ]\n",
    "}"
   ]
  },
  {
   "cell_type": "code",
   "execution_count": null,
   "metadata": {},
   "outputs": [],
   "source": [
    "#complex combination of three filters applied to endpoint, i.e. (x AND/OR [y AND/OR z]) must be met\n",
    "\n",
    "combination_three_2 = {\n",
    "    \"op\": \"and\",\n",
    "    \"content\": [{\n",
    "            \"op\": \"=\",\n",
    "            \"content\": {\n",
    "                \"field\": \"cases.project.project_id\",\n",
    "                \"value\": \"TCGA-BRCA\"\n",
    "            }\n",
    "        },\n",
    "        {\n",
    "            \"op\": \"or\",\n",
    "            \"content\": [{\n",
    "                    \"op\": \"=\",\n",
    "                    \"content\": {\n",
    "                        \"field\": \"cases.disease_type\",\n",
    "                        \"value\": \"cystic, mucinous and serious neoplasms\"\n",
    "                    }\n",
    "                },\n",
    "                {\n",
    "                    \"op\": \"=\",\n",
    "                    \"content\": {\n",
    "                        \"field\": \"cases.disease_type\",\n",
    "                        \"value\": \"ductal and lobular neoplasms\"\n",
    "                    }\n",
    "                }\n",
    "            ]\n",
    "        }\n",
    "    ]\n",
    "}"
   ]
  },
  {
   "cell_type": "markdown",
   "metadata": {},
   "source": [
    "### Template commands for formatting search query parameters"
   ]
  },
  {
   "cell_type": "code",
   "execution_count": 69,
   "metadata": {},
   "outputs": [],
   "source": [
    "#percent encoding of filters\n",
    "json_string=str(json.dumps(one_filter))\n",
    "example_filter = urllib.parse.quote(json_string.encode('utf-8'))"
   ]
  },
  {
   "cell_type": "markdown",
   "metadata": {},
   "source": [
    "### Template for formatting <font color=\"red\">fields</font> to be returned by query\n",
    "\n",
    "- all fields = do not specify?\n",
    "- comma delimited list of fields to be returned\n",
    "- specifying no fields will return all available fields for entities that match filters in endpoint"
   ]
  },
  {
   "cell_type": "code",
   "execution_count": 57,
   "metadata": {},
   "outputs": [],
   "source": [
    "#specify fields to be returned\n",
    "example_fields = \",\".join([\n",
    "    \"submitter_id\",\n",
    "    \"disease_type\",\n",
    "    \"samples.submitter_id\",\n",
    "    \"samples.sample_type\", \n",
    "    \"samples.tissue_type\",\n",
    "    \"diagnoses.age_at_diagnosis\"\n",
    "])"
   ]
  },
  {
   "cell_type": "markdown",
   "metadata": {},
   "source": [
    "### Template API `GET` Request "
   ]
  },
  {
   "cell_type": "code",
   "execution_count": 72,
   "metadata": {},
   "outputs": [
    {
     "data": {
      "text/plain": [
       "'https://api.gdc.cancer.gov/cases?filters=%7B%22op%22%3A%20%22%3D%22%2C%20%22content%22%3A%20%7B%22field%22%3A%20%22cases.project.program.name%22%2C%20%22value%22%3A%20%22TCGA%22%7D%7D&fields=submitter_id,samples.submitter_id,samples.is_ffpe,samples.portions.submitter_id,samples.portions.is_ffpe&size=11315&format=json&pretty=true'"
      ]
     },
     "execution_count": 72,
     "metadata": {},
     "output_type": "execute_result"
    }
   ],
   "source": [
    "#build API query: queryBuilder(endpoint, filters, fields, size, frmat)\n",
    "\n",
    "#to specify no filters and/or no fields to return, replace variable with <''>\n",
    "\n",
    "template_request = queryBuilder('cases', example_filter, example_fields, '11315', \"json\")\n",
    "\n",
    "template_request"
   ]
  },
  {
   "cell_type": "markdown",
   "metadata": {},
   "source": [
    "##### Note: You can also copy and paste foramtted request URL into browser url bar to  return results in browser"
   ]
  },
  {
   "cell_type": "code",
   "execution_count": 73,
   "metadata": {},
   "outputs": [],
   "source": [
    "#send request\n",
    "result = requests.get(template_request)\n",
    "\n",
    "#write request results to file, edit file name and type \n",
    "with open(\"/Users/catherineausland/Desktop/ffpe.json\", \"w+\") as output: \n",
    "    output.write(result.text)\n",
    "output.close()"
   ]
  },
  {
   "cell_type": "markdown",
   "metadata": {},
   "source": [
    "### Example 1: Retrieve sample type and primary diagnosis data for DNA-seq files in TCGA-BRCA project\n",
    "\n",
    "- Retrieve whether BAM files are for normal or tumor samples, as well as what disease cases were diagnosed as, in the TCGA-BRCA project\n",
    "- Use 'files' endpoint, as this endpoint contains metadata related to files in the GDC (such as experimental strategy and data category)\n",
    "- Need to filter down to files that are of the data category \"sequencing reads\" and experimental strategy type \"WXS\" (whole exome) to filter out other categories (like copy number variation, gene expression) and other experimental stragies (like RNA-Seq). "
   ]
  },
  {
   "cell_type": "code",
   "execution_count": 75,
   "metadata": {},
   "outputs": [
    {
     "name": "stdout",
     "output_type": "stream",
     "text": [
      "cases.0.diagnoses.0.primary_diagnosis\tcases.0.samples.0.sample_type\tcases.0.submitter_id\tfile_name\tid\r\n",
      "Infiltrating duct carcinoma, NOS\tBlood Derived Normal\tTCGA-AR-A0TQ\tTCGA-AR-A0TQ-10A-01D-A099-09_IlluminaGA-DNASeq_exome_gdc_realn.bam\t7e089ffc-a3c6-4182-b14a-b0c75c829af2\r\n",
      "\n"
     ]
    }
   ],
   "source": [
    "#step 1: specify and encode filters\n",
    "\n",
    "filters = {\n",
    "    \"op\" : \"and\",\n",
    "    \"content\":[{\n",
    "        \"op\":\"=\",\n",
    "         \"content\":{\n",
    "              \"field\": \"cases.project.project_id\", \n",
    "                \"value\": \"TCGA-BRCA\"\n",
    "            }\n",
    "        }, \n",
    "        {\n",
    "            \"op\":\"=\", \n",
    "            \"content\":{\n",
    "                \"field\":\"files.data_category\",\n",
    "                \"value\": \"sequencing reads\"\n",
    "            }\n",
    "        },\n",
    "        {\n",
    "            \"op\":\"=\", \n",
    "            \"content\":{\n",
    "                \"field\":\"files.experimental_strategy\",\n",
    "                \"value\": \"WXS\"\n",
    "            }\n",
    "        },\n",
    "        {\n",
    "            \"op\":\"=\", \n",
    "            \"content\":{\n",
    "                \"field\":\"files.data_format\",\n",
    "                \"value\": \"BAM\"\n",
    "            }\n",
    "        }\n",
    "        \n",
    "    ]\n",
    "}\n",
    "\n",
    "json_string=str(json.dumps(filters))\n",
    "filters_format = urllib.parse.quote(json_string.encode('utf-8'))\n",
    "\n",
    "#step 2: specify fields to be returned\n",
    "fields = \",\".join([\n",
    "    \"cases.submitter_id\",\n",
    "    \"file_name\",\n",
    "    \"cases.samples.sample_type\",\n",
    "    \"cases.diagnoses.primary_diagnosis\"\n",
    "])\n",
    "\n",
    "#step 3+4: build query url with 'files' endpoint, specify size=1 and format=tsv\n",
    "brca_request = queryBuilder('files', filters_format, fields, '1', \"tsv\")\n",
    "\n",
    "#step 5: send request\n",
    "brca_result = requests.get(brca_request)\n",
    "\n",
    "print(brca_result.text)"
   ]
  },
  {
   "cell_type": "markdown",
   "metadata": {},
   "source": [
    "### Example 2: Retrieve FFPE data for samples and portions for TCGA projects\n",
    "\n",
    "- Retrieve whether case samples and portions taken from cases in TCGA projects were Formalin-Fixed Paraffin-Embedded (FFPE) specimens or not\n",
    "- Will use the 'cases' endpoint, as this endpoint contains biospecien and clinical information related to cases and samples in the GDC"
   ]
  },
  {
   "cell_type": "code",
   "execution_count": 29,
   "metadata": {},
   "outputs": [
    {
     "name": "stdout",
     "output_type": "stream",
     "text": [
      "{\n",
      "  \"data\": {\n",
      "    \"hits\": [\n",
      "      {\n",
      "        \"id\": \"375436b3-66ac-4d5e-b495-18a96d812a69\", \n",
      "        \"submitter_id\": \"TCGA-F5-6810\", \n",
      "        \"samples\": [\n",
      "          {\n",
      "            \"submitter_id\": \"TCGA-F5-6810-01Z\", \n",
      "            \"is_ffpe\": true\n",
      "          }, \n",
      "          {\n",
      "            \"submitter_id\": \"TCGA-F5-6810-10A\", \n",
      "            \"is_ffpe\": false, \n",
      "            \"portions\": [\n",
      "              {\n",
      "                \"submitter_id\": \"TCGA-F5-6810-10A-01\", \n",
      "                \"is_ffpe\": false\n",
      "              }\n",
      "            ]\n",
      "          }, \n",
      "          {\n",
      "            \"submitter_id\": \"TCGA-F5-6810-01A\", \n",
      "            \"is_ffpe\": false, \n",
      "            \"portions\": [\n",
      "              {\n",
      "                \"submitter_id\": \"TCGA-F5-6810-01A-11\", \n",
      "                \"is_ffpe\": false\n",
      "              }, \n",
      "              {\n",
      "                \"submitter_id\": \"TCGA-F5-6810-01A-13-1935-20\", \n",
      "                \"is_ffpe\": false\n",
      "              }\n",
      "            ]\n",
      "          }\n",
      "        ]\n",
      "      }\n",
      "    ], \n",
      "    \"pagination\": {\n",
      "      \"count\": 1, \n",
      "      \"total\": 11315, \n",
      "      \"size\": 1, \n",
      "      \"from\": 0, \n",
      "      \"sort\": \"\", \n",
      "      \"page\": 1, \n",
      "      \"pages\": 11315\n",
      "    }\n",
      "  }, \n",
      "  \"warnings\": {}\n",
      "}\n"
     ]
    },
    {
     "data": {
      "text/plain": [
       "'https://api.gdc.cancer.gov/cases?filters=%7B%22op%22%3A%20%22%3D%22%2C%20%22content%22%3A%20%7B%22field%22%3A%20%22cases.project.program.name%22%2C%20%22value%22%3A%20%22TCGA%22%7D%7D&fields=submitter_id,samples.submitter_id,samples.is_ffpe,samples.portions.submitter_id,samples.portions.is_ffpe&size=1&format=json&pretty=true'"
      ]
     },
     "execution_count": 29,
     "metadata": {},
     "output_type": "execute_result"
    }
   ],
   "source": [
    "#step 1: specify and encode filters\n",
    "filters = {\n",
    "            \"op\":\"=\",\n",
    "            \"content\":{\n",
    "                \"field\": \"cases.project.program.name\", \n",
    "                \"value\": \"TCGA\"\n",
    "    }\n",
    "}\n",
    "\n",
    "json_string=str(json.dumps(filters))\n",
    "filters_format = urllib.parse.quote(json_string.encode('utf-8'))\n",
    "\n",
    "#step 2: specify fields to be returned\n",
    "fields = \",\".join([\n",
    "    \"submitter_id\",\n",
    "    \"samples.submitter_id\",\n",
    "    \"samples.is_ffpe\",\n",
    "    \"samples.portions.submitter_id\",\n",
    "    \"samples.portions.is_ffpe\", \n",
    "])\n",
    "\n",
    "#step 3+4: build query url with 'cases' endpoint, specify size=1 and format=json\n",
    "ffpe_request = queryBuilder('cases', filters_format, fields, '1', \"json\")\n",
    "\n",
    "#step 5: send request\n",
    "ffpe_result = requests.get(ffpe_request)\n",
    "\n",
    "print(ffpe_result.text)\n",
    "ffpe_request"
   ]
  },
  {
   "cell_type": "markdown",
   "metadata": {},
   "source": [
    "### Example 3: Analysis endpoint, survival data and mutations/genes"
   ]
  },
  {
   "cell_type": "markdown",
   "metadata": {},
   "source": [
    "### Example 4: Days to Death after Diagnosis and Vital Status for cases in TCGA-HNSC project\n",
    "\n",
    "- remove TCGA0HNSc as well as "
   ]
  },
  {
   "cell_type": "markdown",
   "metadata": {},
   "source": [
    "# <a id='download'>How to Download Files with GDC API</a>\n",
    "\n",
    "### Overview\n",
    "\n",
    "- Users can download \n",
    "- \n",
    "\n",
    "### Endpoint\n",
    "\n",
    "- The endpoint to download files is `https://api.gdc.cancer.gov/data/`\n",
    "\n",
    "### Steps\n",
    "\n"
   ]
  },
  {
   "cell_type": "code",
   "execution_count": 8,
   "metadata": {},
   "outputs": [],
   "source": [
    "import requests"
   ]
  },
  {
   "cell_type": "code",
   "execution_count": 9,
   "metadata": {
    "scrolled": true
   },
   "outputs": [
    {
     "data": {
      "text/plain": [
       "<Response [200]>"
      ]
     },
     "execution_count": 9,
     "metadata": {},
     "output_type": "execute_result"
    }
   ],
   "source": [
    "requests.get('https://api.gdc.cancer.gov/data/5b2974ad-f932-499b-90a3-93577a9f0573')\n",
    "\n",
    "#curl --remote-name --remote-header-name 'https://api.gdc.cancer.gov/data/5b2974ad-f932-499b-90a3-93577a9f0573"
   ]
  },
  {
   "cell_type": "markdown",
   "metadata": {},
   "source": [
    "# <a id='bam_slice'>How to Perform BAM Slicing with GDC API</a>\n",
    "\n",
    "### Endpoint\n"
   ]
  },
  {
   "cell_type": "markdown",
   "metadata": {},
   "source": [
    "# <a id='submit'>How to Submit Data with GDC API</a>\n",
    "\n",
    "### Overview\n",
    "\n",
    "- Submitters can make use of the `submission` GDC API endpoint to submit node entities to submission projects\n",
    "- Submission will require a token downloaded from the [GDC Submission Portal](https://docs.gdc.cancer.gov/Data_Submission_Portal/Users_Guide/Data_Submission_Process/#authentication)\n",
    "- Data can be submitted in `JSON` or `TSV` format; depending on the data format, users will need to edit the `\"Content-Type\"` in the request command (see below)\n",
    "- Submittable files (such as FASTQ or BAM files) should be uploaded with the [GDC Data Transfer Tool](https://gdc.cancer.gov/access-data/gdc-data-transfer-tool)\n",
    "- Additional features and more information regarding submission using the GDC API can be found here: https://docs.gdc.cancer.gov/API/Users_Guide/Submission/\n",
    "\n",
    "\n",
    "### Endpoint\n",
    "\n",
    "- The format for using the GDC API Submission enpoint uses the project information, i.e. `https://api.gdc.cancer.gov/<program_name>/<project_code>`\n",
    "- for example: https://api.gdc.cancer.gov/submission/TCGA/LUAD or https://api.gdc.cancer.gov/submission/CPTAC/3 \n",
    "\n",
    "\n",
    "### Steps\n",
    "\n",
    "1. Read in token file\n",
    "2. Read in submission file\n",
    "3. Edit endpoint and submit data using `POST` request\n",
    "\n",
    "### Example 1: Submitting a JSON Data File"
   ]
  },
  {
   "cell_type": "code",
   "execution_count": null,
   "metadata": {},
   "outputs": [],
   "source": [
    "#1. Read in token file\n",
    "\n",
    "token = open(\"path/to/file/gdc-user-token.txt\").read().strip()"
   ]
  },
  {
   "cell_type": "code",
   "execution_count": null,
   "metadata": {},
   "outputs": [],
   "source": [
    "#2. Read in submission file\n",
    "\n",
    "example_file_json = json.load(open(\"example_file.json\"))"
   ]
  },
  {
   "cell_type": "code",
   "execution_count": 5,
   "metadata": {
    "collapsed": true
   },
   "outputs": [
    {
     "ename": "NameError",
     "evalue": "name 'requests' is not defined",
     "output_type": "error",
     "traceback": [
      "\u001b[0;31m---------------------------------------------------------------------------\u001b[0m",
      "\u001b[0;31mNameError\u001b[0m                                 Traceback (most recent call last)",
      "\u001b[0;32m<ipython-input-5-aba13b3b78cb>\u001b[0m in \u001b[0;36m<module>\u001b[0;34m\u001b[0m\n\u001b[1;32m      4\u001b[0m \u001b[0;34m\u001b[0m\u001b[0m\n\u001b[1;32m      5\u001b[0m \u001b[0;31m#submission of data is in JSON format\u001b[0m\u001b[0;34m\u001b[0m\u001b[0;34m\u001b[0m\u001b[0;34m\u001b[0m\u001b[0m\n\u001b[0;32m----> 6\u001b[0;31m \u001b[0mrequests\u001b[0m\u001b[0;34m.\u001b[0m\u001b[0mpost\u001b[0m\u001b[0;34m(\u001b[0m\u001b[0murl\u001b[0m \u001b[0;34m=\u001b[0m \u001b[0mENDPT\u001b[0m\u001b[0;34m,\u001b[0m \u001b[0mjson\u001b[0m \u001b[0;34m=\u001b[0m \u001b[0mJSON_submit\u001b[0m\u001b[0;34m,\u001b[0m \u001b[0mheaders\u001b[0m\u001b[0;34m=\u001b[0m\u001b[0;34m{\u001b[0m\u001b[0;34m'X-Auth-Token'\u001b[0m\u001b[0;34m:\u001b[0m \u001b[0mtoken\u001b[0m\u001b[0;34m,\u001b[0m \u001b[0;34m\"Content-Type\"\u001b[0m\u001b[0;34m:\u001b[0m \u001b[0;34m\"application/json\"\u001b[0m\u001b[0;34m}\u001b[0m\u001b[0;34m)\u001b[0m\u001b[0;34m\u001b[0m\u001b[0;34m\u001b[0m\u001b[0m\n\u001b[0m\u001b[1;32m      7\u001b[0m \u001b[0;34m\u001b[0m\u001b[0m\n\u001b[1;32m      8\u001b[0m \u001b[0;31m#submission of data is in TSV format\u001b[0m\u001b[0;34m\u001b[0m\u001b[0;34m\u001b[0m\u001b[0;34m\u001b[0m\u001b[0m\n",
      "\u001b[0;31mNameError\u001b[0m: name 'requests' is not defined"
     ]
    }
   ],
   "source": [
    "#3. Edit endpoint and submit data using POST request\n",
    "\n",
    "ENDPT = \"https://api.gdc.cancer.gov/submission/<program_name>/<project_id>\"\n",
    "\n",
    "#submission request if data is in JSON format\n",
    "requests.post(url = ENDPT, json = example_file_json, headers={'X-Auth-Token': token, \"Content-Type\": \"application/json\"})"
   ]
  },
  {
   "cell_type": "markdown",
   "metadata": {},
   "source": [
    "### Example 2: Submitting a TSV Data File"
   ]
  },
  {
   "cell_type": "code",
   "execution_count": 2,
   "metadata": {},
   "outputs": [],
   "source": [
    "#1. Read in token file\n",
    "\n",
    "#token = open(\"path/to/file/gdc-user-token.txt\").read().strip()\n",
    "token = open(\"/Users/catherineausland/Documents/gdc-user-token.txt\").read().strip()"
   ]
  },
  {
   "cell_type": "code",
   "execution_count": 3,
   "metadata": {},
   "outputs": [],
   "source": [
    "#2. Read in submission file\n",
    "\n",
    "#example_file_tsv = open(\"example_file.txt\")\n",
    "example_file_tsv = open(\"submission_case_template.tsv\")"
   ]
  },
  {
   "cell_type": "code",
   "execution_count": 5,
   "metadata": {},
   "outputs": [
    {
     "ename": "KeyboardInterrupt",
     "evalue": "",
     "output_type": "error",
     "traceback": [
      "\u001b[0;31m---------------------------------------------------------------------------\u001b[0m",
      "\u001b[0;31mKeyboardInterrupt\u001b[0m                         Traceback (most recent call last)",
      "\u001b[0;32m<ipython-input-5-330c6c1a9716>\u001b[0m in \u001b[0;36m<module>\u001b[0;34m\u001b[0m\n\u001b[1;32m      5\u001b[0m \u001b[0;34m\u001b[0m\u001b[0m\n\u001b[1;32m      6\u001b[0m \u001b[0;31m#submission request if data is in TSV format\u001b[0m\u001b[0;34m\u001b[0m\u001b[0;34m\u001b[0m\u001b[0;34m\u001b[0m\u001b[0m\n\u001b[0;32m----> 7\u001b[0;31m \u001b[0mres\u001b[0m \u001b[0;34m=\u001b[0m \u001b[0mrequests\u001b[0m\u001b[0;34m.\u001b[0m\u001b[0mput\u001b[0m\u001b[0;34m(\u001b[0m\u001b[0murl\u001b[0m \u001b[0;34m=\u001b[0m \u001b[0mENDPT\u001b[0m\u001b[0;34m,\u001b[0m \u001b[0mdata\u001b[0m \u001b[0;34m=\u001b[0m \u001b[0mexample_file_tsv\u001b[0m\u001b[0;34m,\u001b[0m \u001b[0mheaders\u001b[0m\u001b[0;34m=\u001b[0m\u001b[0;34m{\u001b[0m\u001b[0;34m'X-Auth-Token'\u001b[0m\u001b[0;34m:\u001b[0m \u001b[0mtoken\u001b[0m\u001b[0;34m,\u001b[0m \u001b[0;34m\"Content-Type\"\u001b[0m\u001b[0;34m:\u001b[0m \u001b[0;34m\"text/tsv\"\u001b[0m\u001b[0;34m}\u001b[0m\u001b[0;34m)\u001b[0m\u001b[0;34m\u001b[0m\u001b[0;34m\u001b[0m\u001b[0m\n\u001b[0m\u001b[1;32m      8\u001b[0m \u001b[0;34m\u001b[0m\u001b[0m\n\u001b[1;32m      9\u001b[0m \u001b[0mres\u001b[0m\u001b[0;34m.\u001b[0m\u001b[0mtext\u001b[0m\u001b[0;34m\u001b[0m\u001b[0;34m\u001b[0m\u001b[0m\n",
      "\u001b[0;32m~/miniconda3/lib/python3.8/site-packages/requests/api.py\u001b[0m in \u001b[0;36mput\u001b[0;34m(url, data, **kwargs)\u001b[0m\n\u001b[1;32m    132\u001b[0m     \"\"\"\n\u001b[1;32m    133\u001b[0m \u001b[0;34m\u001b[0m\u001b[0m\n\u001b[0;32m--> 134\u001b[0;31m     \u001b[0;32mreturn\u001b[0m \u001b[0mrequest\u001b[0m\u001b[0;34m(\u001b[0m\u001b[0;34m'put'\u001b[0m\u001b[0;34m,\u001b[0m \u001b[0murl\u001b[0m\u001b[0;34m,\u001b[0m \u001b[0mdata\u001b[0m\u001b[0;34m=\u001b[0m\u001b[0mdata\u001b[0m\u001b[0;34m,\u001b[0m \u001b[0;34m**\u001b[0m\u001b[0mkwargs\u001b[0m\u001b[0;34m)\u001b[0m\u001b[0;34m\u001b[0m\u001b[0;34m\u001b[0m\u001b[0m\n\u001b[0m\u001b[1;32m    135\u001b[0m \u001b[0;34m\u001b[0m\u001b[0m\n\u001b[1;32m    136\u001b[0m \u001b[0;34m\u001b[0m\u001b[0m\n",
      "\u001b[0;32m~/miniconda3/lib/python3.8/site-packages/requests/api.py\u001b[0m in \u001b[0;36mrequest\u001b[0;34m(method, url, **kwargs)\u001b[0m\n\u001b[1;32m     59\u001b[0m     \u001b[0;31m# cases, and look like a memory leak in others.\u001b[0m\u001b[0;34m\u001b[0m\u001b[0;34m\u001b[0m\u001b[0;34m\u001b[0m\u001b[0m\n\u001b[1;32m     60\u001b[0m     \u001b[0;32mwith\u001b[0m \u001b[0msessions\u001b[0m\u001b[0;34m.\u001b[0m\u001b[0mSession\u001b[0m\u001b[0;34m(\u001b[0m\u001b[0;34m)\u001b[0m \u001b[0;32mas\u001b[0m \u001b[0msession\u001b[0m\u001b[0;34m:\u001b[0m\u001b[0;34m\u001b[0m\u001b[0;34m\u001b[0m\u001b[0m\n\u001b[0;32m---> 61\u001b[0;31m         \u001b[0;32mreturn\u001b[0m \u001b[0msession\u001b[0m\u001b[0;34m.\u001b[0m\u001b[0mrequest\u001b[0m\u001b[0;34m(\u001b[0m\u001b[0mmethod\u001b[0m\u001b[0;34m=\u001b[0m\u001b[0mmethod\u001b[0m\u001b[0;34m,\u001b[0m \u001b[0murl\u001b[0m\u001b[0;34m=\u001b[0m\u001b[0murl\u001b[0m\u001b[0;34m,\u001b[0m \u001b[0;34m**\u001b[0m\u001b[0mkwargs\u001b[0m\u001b[0;34m)\u001b[0m\u001b[0;34m\u001b[0m\u001b[0;34m\u001b[0m\u001b[0m\n\u001b[0m\u001b[1;32m     62\u001b[0m \u001b[0;34m\u001b[0m\u001b[0m\n\u001b[1;32m     63\u001b[0m \u001b[0;34m\u001b[0m\u001b[0m\n",
      "\u001b[0;32m~/miniconda3/lib/python3.8/site-packages/requests/sessions.py\u001b[0m in \u001b[0;36mrequest\u001b[0;34m(self, method, url, params, data, headers, cookies, files, auth, timeout, allow_redirects, proxies, hooks, stream, verify, cert, json)\u001b[0m\n\u001b[1;32m    528\u001b[0m         }\n\u001b[1;32m    529\u001b[0m         \u001b[0msend_kwargs\u001b[0m\u001b[0;34m.\u001b[0m\u001b[0mupdate\u001b[0m\u001b[0;34m(\u001b[0m\u001b[0msettings\u001b[0m\u001b[0;34m)\u001b[0m\u001b[0;34m\u001b[0m\u001b[0;34m\u001b[0m\u001b[0m\n\u001b[0;32m--> 530\u001b[0;31m         \u001b[0mresp\u001b[0m \u001b[0;34m=\u001b[0m \u001b[0mself\u001b[0m\u001b[0;34m.\u001b[0m\u001b[0msend\u001b[0m\u001b[0;34m(\u001b[0m\u001b[0mprep\u001b[0m\u001b[0;34m,\u001b[0m \u001b[0;34m**\u001b[0m\u001b[0msend_kwargs\u001b[0m\u001b[0;34m)\u001b[0m\u001b[0;34m\u001b[0m\u001b[0;34m\u001b[0m\u001b[0m\n\u001b[0m\u001b[1;32m    531\u001b[0m \u001b[0;34m\u001b[0m\u001b[0m\n\u001b[1;32m    532\u001b[0m         \u001b[0;32mreturn\u001b[0m \u001b[0mresp\u001b[0m\u001b[0;34m\u001b[0m\u001b[0;34m\u001b[0m\u001b[0m\n",
      "\u001b[0;32m~/miniconda3/lib/python3.8/site-packages/requests/sessions.py\u001b[0m in \u001b[0;36msend\u001b[0;34m(self, request, **kwargs)\u001b[0m\n\u001b[1;32m    641\u001b[0m \u001b[0;34m\u001b[0m\u001b[0m\n\u001b[1;32m    642\u001b[0m         \u001b[0;31m# Send the request\u001b[0m\u001b[0;34m\u001b[0m\u001b[0;34m\u001b[0m\u001b[0;34m\u001b[0m\u001b[0m\n\u001b[0;32m--> 643\u001b[0;31m         \u001b[0mr\u001b[0m \u001b[0;34m=\u001b[0m \u001b[0madapter\u001b[0m\u001b[0;34m.\u001b[0m\u001b[0msend\u001b[0m\u001b[0;34m(\u001b[0m\u001b[0mrequest\u001b[0m\u001b[0;34m,\u001b[0m \u001b[0;34m**\u001b[0m\u001b[0mkwargs\u001b[0m\u001b[0;34m)\u001b[0m\u001b[0;34m\u001b[0m\u001b[0;34m\u001b[0m\u001b[0m\n\u001b[0m\u001b[1;32m    644\u001b[0m \u001b[0;34m\u001b[0m\u001b[0m\n\u001b[1;32m    645\u001b[0m         \u001b[0;31m# Total elapsed time of the request (approximately)\u001b[0m\u001b[0;34m\u001b[0m\u001b[0;34m\u001b[0m\u001b[0;34m\u001b[0m\u001b[0m\n",
      "\u001b[0;32m~/miniconda3/lib/python3.8/site-packages/requests/adapters.py\u001b[0m in \u001b[0;36msend\u001b[0;34m(self, request, stream, timeout, verify, cert, proxies)\u001b[0m\n\u001b[1;32m    437\u001b[0m         \u001b[0;32mtry\u001b[0m\u001b[0;34m:\u001b[0m\u001b[0;34m\u001b[0m\u001b[0;34m\u001b[0m\u001b[0m\n\u001b[1;32m    438\u001b[0m             \u001b[0;32mif\u001b[0m \u001b[0;32mnot\u001b[0m \u001b[0mchunked\u001b[0m\u001b[0;34m:\u001b[0m\u001b[0;34m\u001b[0m\u001b[0;34m\u001b[0m\u001b[0m\n\u001b[0;32m--> 439\u001b[0;31m                 resp = conn.urlopen(\n\u001b[0m\u001b[1;32m    440\u001b[0m                     \u001b[0mmethod\u001b[0m\u001b[0;34m=\u001b[0m\u001b[0mrequest\u001b[0m\u001b[0;34m.\u001b[0m\u001b[0mmethod\u001b[0m\u001b[0;34m,\u001b[0m\u001b[0;34m\u001b[0m\u001b[0;34m\u001b[0m\u001b[0m\n\u001b[1;32m    441\u001b[0m                     \u001b[0murl\u001b[0m\u001b[0;34m=\u001b[0m\u001b[0murl\u001b[0m\u001b[0;34m,\u001b[0m\u001b[0;34m\u001b[0m\u001b[0;34m\u001b[0m\u001b[0m\n",
      "\u001b[0;32m~/miniconda3/lib/python3.8/site-packages/urllib3/connectionpool.py\u001b[0m in \u001b[0;36murlopen\u001b[0;34m(self, method, url, body, headers, retries, redirect, assert_same_host, timeout, pool_timeout, release_conn, chunked, body_pos, **response_kw)\u001b[0m\n\u001b[1;32m    668\u001b[0m \u001b[0;34m\u001b[0m\u001b[0m\n\u001b[1;32m    669\u001b[0m             \u001b[0;31m# Make the request on the httplib connection object.\u001b[0m\u001b[0;34m\u001b[0m\u001b[0;34m\u001b[0m\u001b[0;34m\u001b[0m\u001b[0m\n\u001b[0;32m--> 670\u001b[0;31m             httplib_response = self._make_request(\n\u001b[0m\u001b[1;32m    671\u001b[0m                 \u001b[0mconn\u001b[0m\u001b[0;34m,\u001b[0m\u001b[0;34m\u001b[0m\u001b[0;34m\u001b[0m\u001b[0m\n\u001b[1;32m    672\u001b[0m                 \u001b[0mmethod\u001b[0m\u001b[0;34m,\u001b[0m\u001b[0;34m\u001b[0m\u001b[0;34m\u001b[0m\u001b[0m\n",
      "\u001b[0;32m~/miniconda3/lib/python3.8/site-packages/urllib3/connectionpool.py\u001b[0m in \u001b[0;36m_make_request\u001b[0;34m(self, conn, method, url, timeout, chunked, **httplib_request_kw)\u001b[0m\n\u001b[1;32m    424\u001b[0m                     \u001b[0;31m# Python 3 (including for exceptions like SystemExit).\u001b[0m\u001b[0;34m\u001b[0m\u001b[0;34m\u001b[0m\u001b[0;34m\u001b[0m\u001b[0m\n\u001b[1;32m    425\u001b[0m                     \u001b[0;31m# Otherwise it looks like a bug in the code.\u001b[0m\u001b[0;34m\u001b[0m\u001b[0;34m\u001b[0m\u001b[0;34m\u001b[0m\u001b[0m\n\u001b[0;32m--> 426\u001b[0;31m                     \u001b[0msix\u001b[0m\u001b[0;34m.\u001b[0m\u001b[0mraise_from\u001b[0m\u001b[0;34m(\u001b[0m\u001b[0me\u001b[0m\u001b[0;34m,\u001b[0m \u001b[0;32mNone\u001b[0m\u001b[0;34m)\u001b[0m\u001b[0;34m\u001b[0m\u001b[0;34m\u001b[0m\u001b[0m\n\u001b[0m\u001b[1;32m    427\u001b[0m         \u001b[0;32mexcept\u001b[0m \u001b[0;34m(\u001b[0m\u001b[0mSocketTimeout\u001b[0m\u001b[0;34m,\u001b[0m \u001b[0mBaseSSLError\u001b[0m\u001b[0;34m,\u001b[0m \u001b[0mSocketError\u001b[0m\u001b[0;34m)\u001b[0m \u001b[0;32mas\u001b[0m \u001b[0me\u001b[0m\u001b[0;34m:\u001b[0m\u001b[0;34m\u001b[0m\u001b[0;34m\u001b[0m\u001b[0m\n\u001b[1;32m    428\u001b[0m             \u001b[0mself\u001b[0m\u001b[0;34m.\u001b[0m\u001b[0m_raise_timeout\u001b[0m\u001b[0;34m(\u001b[0m\u001b[0merr\u001b[0m\u001b[0;34m=\u001b[0m\u001b[0me\u001b[0m\u001b[0;34m,\u001b[0m \u001b[0murl\u001b[0m\u001b[0;34m=\u001b[0m\u001b[0murl\u001b[0m\u001b[0;34m,\u001b[0m \u001b[0mtimeout_value\u001b[0m\u001b[0;34m=\u001b[0m\u001b[0mread_timeout\u001b[0m\u001b[0;34m)\u001b[0m\u001b[0;34m\u001b[0m\u001b[0;34m\u001b[0m\u001b[0m\n",
      "\u001b[0;32m~/miniconda3/lib/python3.8/site-packages/urllib3/packages/six.py\u001b[0m in \u001b[0;36mraise_from\u001b[0;34m(value, from_value)\u001b[0m\n",
      "\u001b[0;32m~/miniconda3/lib/python3.8/site-packages/urllib3/connectionpool.py\u001b[0m in \u001b[0;36m_make_request\u001b[0;34m(self, conn, method, url, timeout, chunked, **httplib_request_kw)\u001b[0m\n\u001b[1;32m    419\u001b[0m                 \u001b[0;31m# Python 3\u001b[0m\u001b[0;34m\u001b[0m\u001b[0;34m\u001b[0m\u001b[0;34m\u001b[0m\u001b[0m\n\u001b[1;32m    420\u001b[0m                 \u001b[0;32mtry\u001b[0m\u001b[0;34m:\u001b[0m\u001b[0;34m\u001b[0m\u001b[0;34m\u001b[0m\u001b[0m\n\u001b[0;32m--> 421\u001b[0;31m                     \u001b[0mhttplib_response\u001b[0m \u001b[0;34m=\u001b[0m \u001b[0mconn\u001b[0m\u001b[0;34m.\u001b[0m\u001b[0mgetresponse\u001b[0m\u001b[0;34m(\u001b[0m\u001b[0;34m)\u001b[0m\u001b[0;34m\u001b[0m\u001b[0;34m\u001b[0m\u001b[0m\n\u001b[0m\u001b[1;32m    422\u001b[0m                 \u001b[0;32mexcept\u001b[0m \u001b[0mBaseException\u001b[0m \u001b[0;32mas\u001b[0m \u001b[0me\u001b[0m\u001b[0;34m:\u001b[0m\u001b[0;34m\u001b[0m\u001b[0;34m\u001b[0m\u001b[0m\n\u001b[1;32m    423\u001b[0m                     \u001b[0;31m# Remove the TypeError from the exception chain in\u001b[0m\u001b[0;34m\u001b[0m\u001b[0;34m\u001b[0m\u001b[0;34m\u001b[0m\u001b[0m\n",
      "\u001b[0;32m~/miniconda3/lib/python3.8/http/client.py\u001b[0m in \u001b[0;36mgetresponse\u001b[0;34m(self)\u001b[0m\n\u001b[1;32m   1345\u001b[0m         \u001b[0;32mtry\u001b[0m\u001b[0;34m:\u001b[0m\u001b[0;34m\u001b[0m\u001b[0;34m\u001b[0m\u001b[0m\n\u001b[1;32m   1346\u001b[0m             \u001b[0;32mtry\u001b[0m\u001b[0;34m:\u001b[0m\u001b[0;34m\u001b[0m\u001b[0;34m\u001b[0m\u001b[0m\n\u001b[0;32m-> 1347\u001b[0;31m                 \u001b[0mresponse\u001b[0m\u001b[0;34m.\u001b[0m\u001b[0mbegin\u001b[0m\u001b[0;34m(\u001b[0m\u001b[0;34m)\u001b[0m\u001b[0;34m\u001b[0m\u001b[0;34m\u001b[0m\u001b[0m\n\u001b[0m\u001b[1;32m   1348\u001b[0m             \u001b[0;32mexcept\u001b[0m \u001b[0mConnectionError\u001b[0m\u001b[0;34m:\u001b[0m\u001b[0;34m\u001b[0m\u001b[0;34m\u001b[0m\u001b[0m\n\u001b[1;32m   1349\u001b[0m                 \u001b[0mself\u001b[0m\u001b[0;34m.\u001b[0m\u001b[0mclose\u001b[0m\u001b[0;34m(\u001b[0m\u001b[0;34m)\u001b[0m\u001b[0;34m\u001b[0m\u001b[0;34m\u001b[0m\u001b[0m\n",
      "\u001b[0;32m~/miniconda3/lib/python3.8/http/client.py\u001b[0m in \u001b[0;36mbegin\u001b[0;34m(self)\u001b[0m\n\u001b[1;32m    305\u001b[0m         \u001b[0;31m# read until we get a non-100 response\u001b[0m\u001b[0;34m\u001b[0m\u001b[0;34m\u001b[0m\u001b[0;34m\u001b[0m\u001b[0m\n\u001b[1;32m    306\u001b[0m         \u001b[0;32mwhile\u001b[0m \u001b[0;32mTrue\u001b[0m\u001b[0;34m:\u001b[0m\u001b[0;34m\u001b[0m\u001b[0;34m\u001b[0m\u001b[0m\n\u001b[0;32m--> 307\u001b[0;31m             \u001b[0mversion\u001b[0m\u001b[0;34m,\u001b[0m \u001b[0mstatus\u001b[0m\u001b[0;34m,\u001b[0m \u001b[0mreason\u001b[0m \u001b[0;34m=\u001b[0m \u001b[0mself\u001b[0m\u001b[0;34m.\u001b[0m\u001b[0m_read_status\u001b[0m\u001b[0;34m(\u001b[0m\u001b[0;34m)\u001b[0m\u001b[0;34m\u001b[0m\u001b[0;34m\u001b[0m\u001b[0m\n\u001b[0m\u001b[1;32m    308\u001b[0m             \u001b[0;32mif\u001b[0m \u001b[0mstatus\u001b[0m \u001b[0;34m!=\u001b[0m \u001b[0mCONTINUE\u001b[0m\u001b[0;34m:\u001b[0m\u001b[0;34m\u001b[0m\u001b[0;34m\u001b[0m\u001b[0m\n\u001b[1;32m    309\u001b[0m                 \u001b[0;32mbreak\u001b[0m\u001b[0;34m\u001b[0m\u001b[0;34m\u001b[0m\u001b[0m\n",
      "\u001b[0;32m~/miniconda3/lib/python3.8/http/client.py\u001b[0m in \u001b[0;36m_read_status\u001b[0;34m(self)\u001b[0m\n\u001b[1;32m    266\u001b[0m \u001b[0;34m\u001b[0m\u001b[0m\n\u001b[1;32m    267\u001b[0m     \u001b[0;32mdef\u001b[0m \u001b[0m_read_status\u001b[0m\u001b[0;34m(\u001b[0m\u001b[0mself\u001b[0m\u001b[0;34m)\u001b[0m\u001b[0;34m:\u001b[0m\u001b[0;34m\u001b[0m\u001b[0;34m\u001b[0m\u001b[0m\n\u001b[0;32m--> 268\u001b[0;31m         \u001b[0mline\u001b[0m \u001b[0;34m=\u001b[0m \u001b[0mstr\u001b[0m\u001b[0;34m(\u001b[0m\u001b[0mself\u001b[0m\u001b[0;34m.\u001b[0m\u001b[0mfp\u001b[0m\u001b[0;34m.\u001b[0m\u001b[0mreadline\u001b[0m\u001b[0;34m(\u001b[0m\u001b[0m_MAXLINE\u001b[0m \u001b[0;34m+\u001b[0m \u001b[0;36m1\u001b[0m\u001b[0;34m)\u001b[0m\u001b[0;34m,\u001b[0m \u001b[0;34m\"iso-8859-1\"\u001b[0m\u001b[0;34m)\u001b[0m\u001b[0;34m\u001b[0m\u001b[0;34m\u001b[0m\u001b[0m\n\u001b[0m\u001b[1;32m    269\u001b[0m         \u001b[0;32mif\u001b[0m \u001b[0mlen\u001b[0m\u001b[0;34m(\u001b[0m\u001b[0mline\u001b[0m\u001b[0;34m)\u001b[0m \u001b[0;34m>\u001b[0m \u001b[0m_MAXLINE\u001b[0m\u001b[0;34m:\u001b[0m\u001b[0;34m\u001b[0m\u001b[0;34m\u001b[0m\u001b[0m\n\u001b[1;32m    270\u001b[0m             \u001b[0;32mraise\u001b[0m \u001b[0mLineTooLong\u001b[0m\u001b[0;34m(\u001b[0m\u001b[0;34m\"status line\"\u001b[0m\u001b[0;34m)\u001b[0m\u001b[0;34m\u001b[0m\u001b[0;34m\u001b[0m\u001b[0m\n",
      "\u001b[0;32m~/miniconda3/lib/python3.8/socket.py\u001b[0m in \u001b[0;36mreadinto\u001b[0;34m(self, b)\u001b[0m\n\u001b[1;32m    667\u001b[0m         \u001b[0;32mwhile\u001b[0m \u001b[0;32mTrue\u001b[0m\u001b[0;34m:\u001b[0m\u001b[0;34m\u001b[0m\u001b[0;34m\u001b[0m\u001b[0m\n\u001b[1;32m    668\u001b[0m             \u001b[0;32mtry\u001b[0m\u001b[0;34m:\u001b[0m\u001b[0;34m\u001b[0m\u001b[0;34m\u001b[0m\u001b[0m\n\u001b[0;32m--> 669\u001b[0;31m                 \u001b[0;32mreturn\u001b[0m \u001b[0mself\u001b[0m\u001b[0;34m.\u001b[0m\u001b[0m_sock\u001b[0m\u001b[0;34m.\u001b[0m\u001b[0mrecv_into\u001b[0m\u001b[0;34m(\u001b[0m\u001b[0mb\u001b[0m\u001b[0;34m)\u001b[0m\u001b[0;34m\u001b[0m\u001b[0;34m\u001b[0m\u001b[0m\n\u001b[0m\u001b[1;32m    670\u001b[0m             \u001b[0;32mexcept\u001b[0m \u001b[0mtimeout\u001b[0m\u001b[0;34m:\u001b[0m\u001b[0;34m\u001b[0m\u001b[0;34m\u001b[0m\u001b[0m\n\u001b[1;32m    671\u001b[0m                 \u001b[0mself\u001b[0m\u001b[0;34m.\u001b[0m\u001b[0m_timeout_occurred\u001b[0m \u001b[0;34m=\u001b[0m \u001b[0;32mTrue\u001b[0m\u001b[0;34m\u001b[0m\u001b[0;34m\u001b[0m\u001b[0m\n",
      "\u001b[0;32m~/miniconda3/lib/python3.8/ssl.py\u001b[0m in \u001b[0;36mrecv_into\u001b[0;34m(self, buffer, nbytes, flags)\u001b[0m\n\u001b[1;32m   1239\u001b[0m                   \u001b[0;34m\"non-zero flags not allowed in calls to recv_into() on %s\"\u001b[0m \u001b[0;34m%\u001b[0m\u001b[0;34m\u001b[0m\u001b[0;34m\u001b[0m\u001b[0m\n\u001b[1;32m   1240\u001b[0m                   self.__class__)\n\u001b[0;32m-> 1241\u001b[0;31m             \u001b[0;32mreturn\u001b[0m \u001b[0mself\u001b[0m\u001b[0;34m.\u001b[0m\u001b[0mread\u001b[0m\u001b[0;34m(\u001b[0m\u001b[0mnbytes\u001b[0m\u001b[0;34m,\u001b[0m \u001b[0mbuffer\u001b[0m\u001b[0;34m)\u001b[0m\u001b[0;34m\u001b[0m\u001b[0;34m\u001b[0m\u001b[0m\n\u001b[0m\u001b[1;32m   1242\u001b[0m         \u001b[0;32melse\u001b[0m\u001b[0;34m:\u001b[0m\u001b[0;34m\u001b[0m\u001b[0;34m\u001b[0m\u001b[0m\n\u001b[1;32m   1243\u001b[0m             \u001b[0;32mreturn\u001b[0m \u001b[0msuper\u001b[0m\u001b[0;34m(\u001b[0m\u001b[0;34m)\u001b[0m\u001b[0;34m.\u001b[0m\u001b[0mrecv_into\u001b[0m\u001b[0;34m(\u001b[0m\u001b[0mbuffer\u001b[0m\u001b[0;34m,\u001b[0m \u001b[0mnbytes\u001b[0m\u001b[0;34m,\u001b[0m \u001b[0mflags\u001b[0m\u001b[0;34m)\u001b[0m\u001b[0;34m\u001b[0m\u001b[0;34m\u001b[0m\u001b[0m\n",
      "\u001b[0;32m~/miniconda3/lib/python3.8/ssl.py\u001b[0m in \u001b[0;36mread\u001b[0;34m(self, len, buffer)\u001b[0m\n\u001b[1;32m   1097\u001b[0m         \u001b[0;32mtry\u001b[0m\u001b[0;34m:\u001b[0m\u001b[0;34m\u001b[0m\u001b[0;34m\u001b[0m\u001b[0m\n\u001b[1;32m   1098\u001b[0m             \u001b[0;32mif\u001b[0m \u001b[0mbuffer\u001b[0m \u001b[0;32mis\u001b[0m \u001b[0;32mnot\u001b[0m \u001b[0;32mNone\u001b[0m\u001b[0;34m:\u001b[0m\u001b[0;34m\u001b[0m\u001b[0;34m\u001b[0m\u001b[0m\n\u001b[0;32m-> 1099\u001b[0;31m                 \u001b[0;32mreturn\u001b[0m \u001b[0mself\u001b[0m\u001b[0;34m.\u001b[0m\u001b[0m_sslobj\u001b[0m\u001b[0;34m.\u001b[0m\u001b[0mread\u001b[0m\u001b[0;34m(\u001b[0m\u001b[0mlen\u001b[0m\u001b[0;34m,\u001b[0m \u001b[0mbuffer\u001b[0m\u001b[0;34m)\u001b[0m\u001b[0;34m\u001b[0m\u001b[0;34m\u001b[0m\u001b[0m\n\u001b[0m\u001b[1;32m   1100\u001b[0m             \u001b[0;32melse\u001b[0m\u001b[0;34m:\u001b[0m\u001b[0;34m\u001b[0m\u001b[0;34m\u001b[0m\u001b[0m\n\u001b[1;32m   1101\u001b[0m                 \u001b[0;32mreturn\u001b[0m \u001b[0mself\u001b[0m\u001b[0;34m.\u001b[0m\u001b[0m_sslobj\u001b[0m\u001b[0;34m.\u001b[0m\u001b[0mread\u001b[0m\u001b[0;34m(\u001b[0m\u001b[0mlen\u001b[0m\u001b[0;34m)\u001b[0m\u001b[0;34m\u001b[0m\u001b[0;34m\u001b[0m\u001b[0m\n",
      "\u001b[0;31mKeyboardInterrupt\u001b[0m: "
     ]
    }
   ],
   "source": [
    "#3. Edit endpoint and submit data using POST request\n",
    "\n",
    "#ENDPT = \"https://api.gdc.cancer.gov/submission/<program_name>/<project_id>\"\n",
    "ENDPT = \"https://api.gdc.cancer.gov/submission/GDC/INTERNAL\"\n",
    "\n",
    "#submission request if data is in TSV format\n",
    "res = requests.put(url = ENDPT, data = example_file_tsv, headers={'X-Auth-Token': token, \"Content-Type\": \"text/tsv\"})\n",
    "\n",
    "res.text"
   ]
  }
 ],
 "metadata": {
  "kernelspec": {
   "display_name": "Python 3",
   "language": "python",
   "name": "python3"
  },
  "language_info": {
   "codemirror_mode": {
    "name": "ipython",
    "version": 3
   },
   "file_extension": ".py",
   "mimetype": "text/x-python",
   "name": "python",
   "nbconvert_exporter": "python",
   "pygments_lexer": "ipython3",
   "version": "3.8.5"
  }
 },
 "nbformat": 4,
 "nbformat_minor": 4
}
